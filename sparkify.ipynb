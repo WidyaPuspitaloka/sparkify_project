{
 "cells": [
  {
   "cell_type": "markdown",
   "metadata": {},
   "source": [
    "# Sparkify Project Workspace\n",
    "This workspace contains a tiny subset (128MB) of the full dataset available (12GB). Feel free to use this workspace to build your project, or to explore a smaller subset with Spark before deploying your cluster on the cloud. Instructions for setting up your Spark cluster is included in the last lesson of the Extracurricular Spark Course content.\n",
    "\n",
    "You can follow the steps below to guide your data analysis and model building portion of this project."
   ]
  },
  {
   "cell_type": "code",
   "execution_count": 61,
   "metadata": {},
   "outputs": [],
   "source": [
    "# Import libraries\n",
    "from pyspark.sql import SparkSession\n",
    "import pyspark.sql.functions as F\n",
    "from pyspark.sql.types import IntegerType\n",
    "from pyspark.ml.feature import VectorAssembler, Normalizer, StandardScaler\n",
    "from pyspark.ml.classification import LogisticRegression, RandomForestClassifier, GBTClassifier, DecisionTreeClassifier, NaiveBayes, LinearSVC\n",
    "from pyspark.ml.evaluation import BinaryClassificationEvaluator, MulticlassClassificationEvaluator\n",
    "from pyspark.ml.tuning import CrossValidator, ParamGridBuilder\n",
    "\n",
    "from pyspark.sql.functions import avg, col, concat, desc, explode, lit, min, max, sum, split, udf, isnan, when, count, countDistinct\n",
    "import time\n",
    "import pandas as pd\n",
    "import numpy as np\n",
    "import matplotlib.pyplot as plt\n",
    "import seaborn as sns\n"
   ]
  },
  {
   "cell_type": "code",
   "execution_count": 4,
   "metadata": {},
   "outputs": [],
   "source": [
    "# create a Spark session\n",
    "spark = SparkSession \\\n",
    "    .builder \\\n",
    "    .appName(\"Sparkify\") \\\n",
    "    .getOrCreate()"
   ]
  },
  {
   "cell_type": "code",
   "execution_count": 5,
   "metadata": {},
   "outputs": [
    {
     "name": "stdout",
     "output_type": "stream",
     "text": [
      "Version:  2.4.3\n"
     ]
    }
   ],
   "source": [
    "#check installed spark version\n",
    "print('Version: ', spark.version)"
   ]
  },
  {
   "cell_type": "markdown",
   "metadata": {},
   "source": [
    "# Load and Clean Dataset\n",
    "In this workspace, the mini-dataset file is `mini_sparkify_event_data.json`. Load and clean the dataset, checking for invalid or missing data - for example, records without userids or sessionids. "
   ]
  },
  {
   "cell_type": "code",
   "execution_count": 6,
   "metadata": {},
   "outputs": [
    {
     "data": {
      "text/plain": [
       "DataFrame[artist: string, auth: string, firstName: string, gender: string, itemInSession: bigint, lastName: string, length: double, level: string, location: string, method: string, page: string, registration: bigint, sessionId: bigint, song: string, status: bigint, ts: bigint, userAgent: string, userId: string]"
      ]
     },
     "execution_count": 6,
     "metadata": {},
     "output_type": "execute_result"
    }
   ],
   "source": [
    "file = \"mini_sparkify_event_data.json\"\n",
    "df = spark.read.json(file)\n",
    "\n",
    "#reducing memory\n",
    "df.persist()"
   ]
  },
  {
   "cell_type": "code",
   "execution_count": 103,
   "metadata": {},
   "outputs": [
    {
     "data": {
      "text/plain": [
       "Row(artist='Martha Tilston', auth='Logged In', firstName='Colin', gender='M', itemInSession=50, lastName='Freeman', length=277.89016, level='paid', location='Bakersfield, CA', method='PUT', page='NextSong', registration=1538173362000, sessionId=29, song='Rockpools', status=200, ts=1538352117000, userAgent='Mozilla/5.0 (Windows NT 6.1; WOW64; rv:31.0) Gecko/20100101 Firefox/31.0', userId='30')"
      ]
     },
     "execution_count": 103,
     "metadata": {},
     "output_type": "execute_result"
    }
   ],
   "source": [
    "#a glance of the data\n",
    "df.head()"
   ]
  },
  {
   "cell_type": "code",
   "execution_count": 104,
   "metadata": {
    "scrolled": true
   },
   "outputs": [
    {
     "name": "stdout",
     "output_type": "stream",
     "text": [
      "root\n",
      " |-- artist: string (nullable = true)\n",
      " |-- auth: string (nullable = true)\n",
      " |-- firstName: string (nullable = true)\n",
      " |-- gender: string (nullable = true)\n",
      " |-- itemInSession: long (nullable = true)\n",
      " |-- lastName: string (nullable = true)\n",
      " |-- length: double (nullable = true)\n",
      " |-- level: string (nullable = true)\n",
      " |-- location: string (nullable = true)\n",
      " |-- method: string (nullable = true)\n",
      " |-- page: string (nullable = true)\n",
      " |-- registration: long (nullable = true)\n",
      " |-- sessionId: long (nullable = true)\n",
      " |-- song: string (nullable = true)\n",
      " |-- status: long (nullable = true)\n",
      " |-- ts: long (nullable = true)\n",
      " |-- userAgent: string (nullable = true)\n",
      " |-- userId: string (nullable = true)\n",
      "\n"
     ]
    }
   ],
   "source": [
    "df.printSchema()"
   ]
  },
  {
   "cell_type": "code",
   "execution_count": 105,
   "metadata": {
    "scrolled": true
   },
   "outputs": [
    {
     "data": {
      "text/plain": [
       "['artist',\n",
       " 'auth',\n",
       " 'firstName',\n",
       " 'gender',\n",
       " 'itemInSession',\n",
       " 'lastName',\n",
       " 'length',\n",
       " 'level',\n",
       " 'location',\n",
       " 'method',\n",
       " 'page',\n",
       " 'registration',\n",
       " 'sessionId',\n",
       " 'song',\n",
       " 'status',\n",
       " 'ts',\n",
       " 'userAgent',\n",
       " 'userId']"
      ]
     },
     "execution_count": 105,
     "metadata": {},
     "output_type": "execute_result"
    }
   ],
   "source": [
    "df.columns"
   ]
  },
  {
   "cell_type": "code",
   "execution_count": 106,
   "metadata": {
    "scrolled": true
   },
   "outputs": [
    {
     "name": "stdout",
     "output_type": "stream",
     "text": [
      "artist missing values: 58392\n",
      "auth missing values: 0\n",
      "firstName missing values: 8346\n",
      "gender missing values: 8346\n",
      "itemInSession missing values: 0\n",
      "lastName missing values: 8346\n",
      "length missing values: 58392\n",
      "level missing values: 0\n",
      "location missing values: 8346\n",
      "method missing values: 0\n",
      "page missing values: 0\n",
      "registration missing values: 8346\n",
      "sessionId missing values: 0\n",
      "song missing values: 58392\n",
      "status missing values: 0\n",
      "ts missing values: 0\n",
      "userAgent missing values: 8346\n",
      "userId missing values: 0\n"
     ]
    }
   ],
   "source": [
    "#count null value from each column\n",
    "for column in df.columns:\n",
    "    print(column, \"missing values:\", df.filter(F.isnull(df[column])).count())"
   ]
  },
  {
   "cell_type": "markdown",
   "metadata": {},
   "source": [
    "Check for missing values in string form since from the lecture, it is mentioned that the missing values are in the form of string"
   ]
  },
  {
   "cell_type": "code",
   "execution_count": 107,
   "metadata": {
    "scrolled": false
   },
   "outputs": [
    {
     "name": "stdout",
     "output_type": "stream",
     "text": [
      "artist missing values (str): 0\n",
      "auth missing values (str): 0\n",
      "firstName missing values (str): 0\n",
      "gender missing values (str): 0\n",
      "itemInSession missing values (str): 0\n",
      "lastName missing values (str): 0\n",
      "length missing values (str): 0\n",
      "level missing values (str): 0\n",
      "location missing values (str): 0\n",
      "method missing values (str): 0\n",
      "page missing values (str): 0\n",
      "registration missing values (str): 0\n",
      "sessionId missing values (str): 0\n",
      "song missing values (str): 0\n",
      "status missing values (str): 0\n",
      "ts missing values (str): 0\n",
      "userAgent missing values (str): 0\n",
      "userId missing values (str): 8346\n"
     ]
    }
   ],
   "source": [
    "#checking missing values in the form of string (\"\")\n",
    "for column in df.columns:\n",
    "    print(column, \"missing values (str):\", df.filter(df[column] == '').count())"
   ]
  },
  {
   "cell_type": "markdown",
   "metadata": {},
   "source": [
    "From above, we see that there are some missing values for userID in string form. UserID and sessionID are the primary data points that we will use, thus it is important for it to be filled."
   ]
  },
  {
   "cell_type": "code",
   "execution_count": 7,
   "metadata": {},
   "outputs": [],
   "source": [
    "df_clean = df.dropna(how='any', subset=['userId', 'sessionId'])"
   ]
  },
  {
   "cell_type": "code",
   "execution_count": 8,
   "metadata": {},
   "outputs": [],
   "source": [
    "df_clean = df_clean.filter(df_clean.userId != '')"
   ]
  },
  {
   "cell_type": "code",
   "execution_count": 110,
   "metadata": {
    "scrolled": true
   },
   "outputs": [
    {
     "name": "stdout",
     "output_type": "stream",
     "text": [
      "userId empty string values: 0\n"
     ]
    }
   ],
   "source": [
    "# check if there's still missing values of userID\n",
    "print('userId empty string values:', df_clean.filter(df_clean.userId == '').count())"
   ]
  },
  {
   "cell_type": "code",
   "execution_count": 9,
   "metadata": {},
   "outputs": [
    {
     "data": {
      "text/plain": [
       "278154"
      ]
     },
     "execution_count": 9,
     "metadata": {},
     "output_type": "execute_result"
    }
   ],
   "source": [
    "# clean data points\n",
    "df_clean.count()"
   ]
  },
  {
   "cell_type": "code",
   "execution_count": 112,
   "metadata": {},
   "outputs": [
    {
     "name": "stdout",
     "output_type": "stream",
     "text": [
      "+-------+-----------------+\n",
      "|summary|           userId|\n",
      "+-------+-----------------+\n",
      "|  count|           278154|\n",
      "|   mean|59682.02278593872|\n",
      "| stddev|109091.9499991047|\n",
      "|    min|               10|\n",
      "|    max|               99|\n",
      "+-------+-----------------+\n",
      "\n"
     ]
    }
   ],
   "source": [
    "df_clean.describe('userId').show()"
   ]
  },
  {
   "cell_type": "code",
   "execution_count": 113,
   "metadata": {
    "scrolled": true
   },
   "outputs": [
    {
     "name": "stdout",
     "output_type": "stream",
     "text": [
      "+-------+------------------+\n",
      "|summary|         sessionID|\n",
      "+-------+------------------+\n",
      "|  count|            278154|\n",
      "|   mean|1042.5616241362698|\n",
      "| stddev| 726.5010362219813|\n",
      "|    min|                 1|\n",
      "|    max|              2474|\n",
      "+-------+------------------+\n",
      "\n"
     ]
    }
   ],
   "source": [
    "df_clean.describe('sessionID').show()"
   ]
  },
  {
   "cell_type": "code",
   "execution_count": 114,
   "metadata": {
    "scrolled": true
   },
   "outputs": [
    {
     "name": "stdout",
     "output_type": "stream",
     "text": [
      "+-------------+-------------+\n",
      "|           ts| registration|\n",
      "+-------------+-------------+\n",
      "|1538352117000|1538173362000|\n",
      "|1538352180000|1538331630000|\n",
      "|1538352394000|1538173362000|\n",
      "|1538352416000|1538331630000|\n",
      "|1538352676000|1538173362000|\n",
      "|1538352678000|1538331630000|\n",
      "|1538352886000|1538331630000|\n",
      "|1538352899000|1538173362000|\n",
      "|1538352905000|1538173362000|\n",
      "|1538353084000|1538173362000|\n",
      "|1538353146000|1538331630000|\n",
      "|1538353150000|1538331630000|\n",
      "|1538353218000|1538173362000|\n",
      "|1538353375000|1538331630000|\n",
      "|1538353376000|1538331630000|\n",
      "|1538353441000|1538173362000|\n",
      "|1538353576000|1538331630000|\n",
      "|1538353668000|1537365219000|\n",
      "|1538353687000|1538173362000|\n",
      "|1538353744000|1538331630000|\n",
      "+-------------+-------------+\n",
      "only showing top 20 rows\n",
      "\n"
     ]
    }
   ],
   "source": [
    "# checking the date time\n",
    "df_clean.select(\"ts\",\"registration\").show()"
   ]
  },
  {
   "cell_type": "code",
   "execution_count": 25,
   "metadata": {},
   "outputs": [],
   "source": [
    "# Change ts and registration timestamp format to DateType format\n",
    "df_clean = df_clean.withColumn('ts', F.from_unixtime(F.col('ts') / 1000))"
   ]
  },
  {
   "cell_type": "code",
   "execution_count": 26,
   "metadata": {},
   "outputs": [],
   "source": [
    "df_clean = df_clean.withColumn('registration', F.from_unixtime(F.col('registration') / 1000))"
   ]
  },
  {
   "cell_type": "code",
   "execution_count": 27,
   "metadata": {},
   "outputs": [
    {
     "name": "stdout",
     "output_type": "stream",
     "text": [
      "+-------------------+-------------------+\n",
      "|                 ts|       registration|\n",
      "+-------------------+-------------------+\n",
      "|2018-10-01 00:01:57|2018-09-28 22:22:42|\n",
      "|2018-10-01 00:03:00|2018-09-30 18:20:30|\n",
      "|2018-10-01 00:06:34|2018-09-28 22:22:42|\n",
      "|2018-10-01 00:06:56|2018-09-30 18:20:30|\n",
      "|2018-10-01 00:11:16|2018-09-28 22:22:42|\n",
      "|2018-10-01 00:11:18|2018-09-30 18:20:30|\n",
      "|2018-10-01 00:14:46|2018-09-30 18:20:30|\n",
      "|2018-10-01 00:14:59|2018-09-28 22:22:42|\n",
      "|2018-10-01 00:15:05|2018-09-28 22:22:42|\n",
      "|2018-10-01 00:18:04|2018-09-28 22:22:42|\n",
      "|2018-10-01 00:19:06|2018-09-30 18:20:30|\n",
      "|2018-10-01 00:19:10|2018-09-30 18:20:30|\n",
      "|2018-10-01 00:20:18|2018-09-28 22:22:42|\n",
      "|2018-10-01 00:22:55|2018-09-30 18:20:30|\n",
      "|2018-10-01 00:22:56|2018-09-30 18:20:30|\n",
      "|2018-10-01 00:24:01|2018-09-28 22:22:42|\n",
      "|2018-10-01 00:26:16|2018-09-30 18:20:30|\n",
      "|2018-10-01 00:27:48|2018-09-19 13:53:39|\n",
      "|2018-10-01 00:28:07|2018-09-28 22:22:42|\n",
      "|2018-10-01 00:29:04|2018-09-30 18:20:30|\n",
      "+-------------------+-------------------+\n",
      "only showing top 20 rows\n",
      "\n"
     ]
    }
   ],
   "source": [
    "df_clean.select(\"ts\",\"registration\").show()"
   ]
  },
  {
   "cell_type": "markdown",
   "metadata": {},
   "source": [
    "# Exploratory Data Analysis\n",
    "When you're working with the full dataset, perform EDA by loading a small subset of the data and doing basic manipulations within Spark. In this workspace, you are already provided a small subset of data you can explore.\n",
    "\n",
    "### Define Churn\n",
    "\n",
    "Once you've done some preliminary analysis, create a column `Churn` to use as the label for your model. I suggest using the `Cancellation Confirmation` events to define your churn, which happen for both paid and free users. As a bonus task, you can also look into the `Downgrade` events.\n",
    "\n",
    "### Explore Data\n",
    "Once you've defined churn, perform some exploratory data analysis to observe the behavior for users who stayed vs users who churned. You can start by exploring aggregates on these two groups of users, observing how much of a specific action they experienced per a certain time unit or number of songs played."
   ]
  },
  {
   "cell_type": "code",
   "execution_count": 18,
   "metadata": {},
   "outputs": [
    {
     "name": "stdout",
     "output_type": "stream",
     "text": [
      "+--------------------+---------+---------+------+-------------+--------+---------+-----+--------------------+------+---------------+-------------------+---------+--------------------+------+-------------------+--------------------+------+\n",
      "|              artist|     auth|firstName|gender|itemInSession|lastName|   length|level|            location|method|           page|       registration|sessionId|                song|status|                 ts|           userAgent|userId|\n",
      "+--------------------+---------+---------+------+-------------+--------+---------+-----+--------------------+------+---------------+-------------------+---------+--------------------+------+-------------------+--------------------+------+\n",
      "|      Martha Tilston|Logged In|    Colin|     M|           50| Freeman|277.89016| paid|     Bakersfield, CA|   PUT|       NextSong|2018-09-28 22:22:42|       29|           Rockpools|   200|2018-10-01 00:01:57|Mozilla/5.0 (Wind...|    30|\n",
      "|    Five Iron Frenzy|Logged In|    Micah|     M|           79|    Long|236.09424| free|Boston-Cambridge-...|   PUT|       NextSong|2018-09-30 18:20:30|        8|              Canada|   200|2018-10-01 00:03:00|\"Mozilla/5.0 (Win...|     9|\n",
      "|        Adam Lambert|Logged In|    Colin|     M|           51| Freeman| 282.8273| paid|     Bakersfield, CA|   PUT|       NextSong|2018-09-28 22:22:42|       29|   Time For Miracles|   200|2018-10-01 00:06:34|Mozilla/5.0 (Wind...|    30|\n",
      "|              Enigma|Logged In|    Micah|     M|           80|    Long|262.71302| free|Boston-Cambridge-...|   PUT|       NextSong|2018-09-30 18:20:30|        8|Knocking On Forbi...|   200|2018-10-01 00:06:56|\"Mozilla/5.0 (Win...|     9|\n",
      "|           Daft Punk|Logged In|    Colin|     M|           52| Freeman|223.60771| paid|     Bakersfield, CA|   PUT|       NextSong|2018-09-28 22:22:42|       29|Harder Better Fas...|   200|2018-10-01 00:11:16|Mozilla/5.0 (Wind...|    30|\n",
      "|The All-American ...|Logged In|    Micah|     M|           81|    Long|208.29995| free|Boston-Cambridge-...|   PUT|       NextSong|2018-09-30 18:20:30|        8|      Don't Leave Me|   200|2018-10-01 00:11:18|\"Mozilla/5.0 (Win...|     9|\n",
      "|The Velvet Underg...|Logged In|    Micah|     M|           82|    Long|260.46649| free|Boston-Cambridge-...|   PUT|       NextSong|2018-09-30 18:20:30|        8|         Run Run Run|   200|2018-10-01 00:14:46|\"Mozilla/5.0 (Win...|     9|\n",
      "|        Starflyer 59|Logged In|    Colin|     M|           53| Freeman|185.44281| paid|     Bakersfield, CA|   PUT|       NextSong|2018-09-28 22:22:42|       29|Passengers (Old A...|   200|2018-10-01 00:14:59|Mozilla/5.0 (Wind...|    30|\n",
      "|                null|Logged In|    Colin|     M|           54| Freeman|     null| paid|     Bakersfield, CA|   PUT|Add to Playlist|2018-09-28 22:22:42|       29|                null|   200|2018-10-01 00:15:05|Mozilla/5.0 (Wind...|    30|\n",
      "|            Frumpies|Logged In|    Colin|     M|           55| Freeman|134.47791| paid|     Bakersfield, CA|   PUT|       NextSong|2018-09-28 22:22:42|       29|          Fuck Kitty|   200|2018-10-01 00:18:04|Mozilla/5.0 (Wind...|    30|\n",
      "+--------------------+---------+---------+------+-------------+--------+---------+-----+--------------------+------+---------------+-------------------+---------+--------------------+------+-------------------+--------------------+------+\n",
      "only showing top 10 rows\n",
      "\n"
     ]
    }
   ],
   "source": [
    "df_clean.show(10)"
   ]
  },
  {
   "cell_type": "code",
   "execution_count": 19,
   "metadata": {},
   "outputs": [],
   "source": [
    "#using sparksql for EDA\n",
    "#Create a temporary view to perform SQL operations\n",
    "user_log = spark.read.json(\"mini_sparkify_event_data.json\")\n",
    "\n",
    "user_log.createOrReplaceTempView(\"sparkify\")\n"
   ]
  },
  {
   "cell_type": "code",
   "execution_count": null,
   "metadata": {},
   "outputs": [],
   "source": [
    "#sqlContext.setConf(\"spark.sql.tungsten.enabled\", \"false\")"
   ]
  },
  {
   "cell_type": "markdown",
   "metadata": {},
   "source": [
    "#### Pre-eliminary analysis of users as well as cancellation confirmation and downgrade as the indicator of churning"
   ]
  },
  {
   "cell_type": "code",
   "execution_count": 20,
   "metadata": {},
   "outputs": [
    {
     "name": "stdout",
     "output_type": "stream",
     "text": [
      "+--------------------+----------+\n",
      "|                page|count_user|\n",
      "+--------------------+----------+\n",
      "|            NextSong|    228108|\n",
      "|                Home|     14457|\n",
      "|           Thumbs Up|     12551|\n",
      "|     Add to Playlist|      6526|\n",
      "|          Add Friend|      4277|\n",
      "|         Roll Advert|      3933|\n",
      "|               Login|      3241|\n",
      "|              Logout|      3226|\n",
      "|         Thumbs Down|      2546|\n",
      "|           Downgrade|      2055|\n",
      "|                Help|      1726|\n",
      "|            Settings|      1514|\n",
      "|               About|       924|\n",
      "|             Upgrade|       499|\n",
      "|       Save Settings|       310|\n",
      "|               Error|       258|\n",
      "|      Submit Upgrade|       159|\n",
      "|    Submit Downgrade|        63|\n",
      "|              Cancel|        52|\n",
      "|Cancellation Conf...|        52|\n",
      "+--------------------+----------+\n",
      "only showing top 20 rows\n",
      "\n"
     ]
    }
   ],
   "source": [
    "# explore by page\n",
    "spark.sql('''\n",
    "        SELECT \n",
    "        page,\n",
    "        COUNT((userID)) AS count_user\n",
    "        FROM sparkify\n",
    "        GROUP BY page\n",
    "        ORDER BY 2 DESC\n",
    "''').show()"
   ]
  },
  {
   "cell_type": "code",
   "execution_count": 21,
   "metadata": {},
   "outputs": [
    {
     "name": "stdout",
     "output_type": "stream",
     "text": [
      "+----------------------+\n",
      "|count(DISTINCT userID)|\n",
      "+----------------------+\n",
      "|                   226|\n",
      "+----------------------+\n",
      "\n"
     ]
    }
   ],
   "source": [
    "# unique number of users \n",
    "spark.sql('''\n",
    "        SELECT \n",
    "        COUNT(DISTINCT(userID))\n",
    "        FROM sparkify\n",
    "''').show()"
   ]
  },
  {
   "cell_type": "code",
   "execution_count": 22,
   "metadata": {},
   "outputs": [
    {
     "name": "stdout",
     "output_type": "stream",
     "text": [
      "+----------------------+\n",
      "|count(DISTINCT userID)|\n",
      "+----------------------+\n",
      "|                    52|\n",
      "+----------------------+\n",
      "\n"
     ]
    }
   ],
   "source": [
    "# number of users who has \"Cancellation Confirmation\"\n",
    "spark.sql('''\n",
    "    SELECT\n",
    "    COUNT (DISTINCT userID)\n",
    "    FROM sparkify\n",
    "    WHERE page = 'Cancellation Confirmation'\n",
    "''').show()"
   ]
  },
  {
   "cell_type": "code",
   "execution_count": 23,
   "metadata": {
    "scrolled": true
   },
   "outputs": [
    {
     "name": "stdout",
     "output_type": "stream",
     "text": [
      "+----------------------+\n",
      "|count(DISTINCT userID)|\n",
      "+----------------------+\n",
      "|                   154|\n",
      "+----------------------+\n",
      "\n"
     ]
    }
   ],
   "source": [
    "# number of users who has \"Downgrade\"\n",
    "spark.sql('''\n",
    "    SELECT\n",
    "    COUNT (DISTINCT userID)\n",
    "    FROM sparkify\n",
    "    WHERE page = 'Downgrade'\n",
    "''').show()"
   ]
  },
  {
   "cell_type": "markdown",
   "metadata": {},
   "source": [
    "#### Gender Distribution"
   ]
  },
  {
   "cell_type": "code",
   "execution_count": 24,
   "metadata": {
    "scrolled": true
   },
   "outputs": [
    {
     "name": "stdout",
     "output_type": "stream",
     "text": [
      "+----------+------+\n",
      "|count_user|gender|\n",
      "+----------+------+\n",
      "|       104|     F|\n",
      "|         1|  null|\n",
      "|       121|     M|\n",
      "+----------+------+\n",
      "\n"
     ]
    }
   ],
   "source": [
    "gender = spark.sql('''\n",
    "    SELECT\n",
    "    COUNT (DISTINCT userID) AS count_user,\n",
    "    gender\n",
    "    FROM sparkify\n",
    "    GROUP BY gender\n",
    "''').show()"
   ]
  },
  {
   "cell_type": "markdown",
   "metadata": {},
   "source": [
    "#### Level Distribution (Paid or Not)"
   ]
  },
  {
   "cell_type": "code",
   "execution_count": 25,
   "metadata": {
    "scrolled": false
   },
   "outputs": [
    {
     "name": "stdout",
     "output_type": "stream",
     "text": [
      "+------+-----+\n",
      "|userID|level|\n",
      "+------+-----+\n",
      "|    30| paid|\n",
      "|     9| free|\n",
      "|    30| paid|\n",
      "|     9| free|\n",
      "|    30| paid|\n",
      "|     9| free|\n",
      "|     9| free|\n",
      "|    30| paid|\n",
      "|    30| paid|\n",
      "|    30| paid|\n",
      "|     9| free|\n",
      "|     9| free|\n",
      "|    30| paid|\n",
      "|     9| free|\n",
      "|     9| free|\n",
      "|    30| paid|\n",
      "|     9| free|\n",
      "|    74| free|\n",
      "|    30| paid|\n",
      "|     9| free|\n",
      "+------+-----+\n",
      "only showing top 20 rows\n",
      "\n"
     ]
    }
   ],
   "source": [
    "spark.sql('''\n",
    "    SELECT\n",
    "    userID,\n",
    "    level\n",
    "    FROM sparkify\n",
    "    --GROUP BY level\n",
    "''').show()"
   ]
  },
  {
   "cell_type": "markdown",
   "metadata": {},
   "source": [
    "From the above, we can assume that there are 136 users who changed from free to paid"
   ]
  },
  {
   "cell_type": "markdown",
   "metadata": {},
   "source": [
    "#### Most popular songs played"
   ]
  },
  {
   "cell_type": "code",
   "execution_count": 26,
   "metadata": {},
   "outputs": [
    {
     "name": "stdout",
     "output_type": "stream",
     "text": [
      "+-----------+--------------------+\n",
      "|count(song)|                song|\n",
      "+-----------+--------------------+\n",
      "|       1153|      You're The One|\n",
      "|       1026|                Undo|\n",
      "|        854|             Revelry|\n",
      "|        728|       Sehr kosmisch|\n",
      "|        641|Horn Concerto No....|\n",
      "|        574|Dog Days Are Over...|\n",
      "|        466|             Secrets|\n",
      "|        459|        Use Somebody|\n",
      "|        435|              Canada|\n",
      "|        424|             Invalid|\n",
      "+-----------+--------------------+\n",
      "only showing top 10 rows\n",
      "\n"
     ]
    }
   ],
   "source": [
    "spark.sql('''\n",
    "    SELECT\n",
    "    COUNT(song),\n",
    "    song\n",
    "    FROM sparkify\n",
    "    GROUP BY song\n",
    "    ORDER BY 1 DESC\n",
    "''').show(n = 10)"
   ]
  },
  {
   "cell_type": "markdown",
   "metadata": {},
   "source": [
    "#### Most popular artist listened by users"
   ]
  },
  {
   "cell_type": "code",
   "execution_count": 27,
   "metadata": {
    "scrolled": true
   },
   "outputs": [
    {
     "name": "stdout",
     "output_type": "stream",
     "text": [
      "+--------------------+-------------+\n",
      "|              artist|count(artist)|\n",
      "+--------------------+-------------+\n",
      "|       Kings Of Leon|         1841|\n",
      "|            Coldplay|         1813|\n",
      "|Florence + The Ma...|         1236|\n",
      "|       Dwight Yoakam|         1135|\n",
      "|            BjÃÂ¶rk|         1133|\n",
      "|      The Black Keys|         1125|\n",
      "|                Muse|         1090|\n",
      "|       Justin Bieber|         1044|\n",
      "|        Jack Johnson|         1007|\n",
      "|              Eminem|          953|\n",
      "+--------------------+-------------+\n",
      "only showing top 10 rows\n",
      "\n"
     ]
    }
   ],
   "source": [
    "spark.sql('''\n",
    "    SELECT\n",
    "    artist,\n",
    "    COUNT (artist)\n",
    "    FROM sparkify\n",
    "    GROUP BY artist\n",
    "    ORDER BY 2 DESC\n",
    "''').show(n = 10)"
   ]
  },
  {
   "cell_type": "markdown",
   "metadata": {},
   "source": [
    "#### Item in session"
   ]
  },
  {
   "cell_type": "code",
   "execution_count": 28,
   "metadata": {
    "scrolled": false
   },
   "outputs": [
    {
     "name": "stdout",
     "output_type": "stream",
     "text": [
      "+------+---------+-------------+\n",
      "|userId|sessionId|itemInSession|\n",
      "+------+---------+-------------+\n",
      "|    30|       29|           50|\n",
      "|     9|        8|           79|\n",
      "|    30|       29|           51|\n",
      "|     9|        8|           80|\n",
      "|    30|       29|           52|\n",
      "|     9|        8|           81|\n",
      "|     9|        8|           82|\n",
      "|    30|       29|           53|\n",
      "|    30|       29|           54|\n",
      "|    30|       29|           55|\n",
      "+------+---------+-------------+\n",
      "only showing top 10 rows\n",
      "\n"
     ]
    }
   ],
   "source": [
    "spark.sql('''\n",
    "    SELECT\n",
    "    userId,\n",
    "    sessionId,\n",
    "    (itemInSession)\n",
    "    FROM sparkify\n",
    "\n",
    "''').show(n = 10)"
   ]
  },
  {
   "cell_type": "markdown",
   "metadata": {},
   "source": [
    "#### Length of Song"
   ]
  },
  {
   "cell_type": "code",
   "execution_count": 29,
   "metadata": {},
   "outputs": [
    {
     "name": "stdout",
     "output_type": "stream",
     "text": [
      "+------+---------+---------+--------------------+---------------+\n",
      "|userId|sessionId|   length|                song|           page|\n",
      "+------+---------+---------+--------------------+---------------+\n",
      "|    30|       29|277.89016|           Rockpools|       NextSong|\n",
      "|     9|        8|236.09424|              Canada|       NextSong|\n",
      "|    30|       29| 282.8273|   Time For Miracles|       NextSong|\n",
      "|     9|        8|262.71302|Knocking On Forbi...|       NextSong|\n",
      "|    30|       29|223.60771|Harder Better Fas...|       NextSong|\n",
      "|     9|        8|208.29995|      Don't Leave Me|       NextSong|\n",
      "|     9|        8|260.46649|         Run Run Run|       NextSong|\n",
      "|    30|       29|185.44281|Passengers (Old A...|       NextSong|\n",
      "|    30|       29|     null|                null|Add to Playlist|\n",
      "|    30|       29|134.47791|          Fuck Kitty|       NextSong|\n",
      "+------+---------+---------+--------------------+---------------+\n",
      "only showing top 10 rows\n",
      "\n"
     ]
    }
   ],
   "source": [
    "spark.sql('''\n",
    "    SELECT\n",
    "    userId,\n",
    "    sessionId,\n",
    "    length,\n",
    "    song,\n",
    "    page\n",
    "    FROM sparkify\n",
    "''').show(n = 10)"
   ]
  },
  {
   "cell_type": "markdown",
   "metadata": {},
   "source": [
    "#### The definition of churn that I am going to use in this project is the one who has Cancellation Confirmation as it is more like a definite indicator"
   ]
  },
  {
   "cell_type": "code",
   "execution_count": 28,
   "metadata": {},
   "outputs": [],
   "source": [
    "# create a churn column, classify it from the cancellation confirmation \n",
    "churn = F.udf(lambda page: 1 if page == 'Cancellation Confirmation' else 0, IntegerType())"
   ]
  },
  {
   "cell_type": "code",
   "execution_count": 29,
   "metadata": {},
   "outputs": [],
   "source": [
    "df_churn = df_clean.withColumn('churn_user', churn(df_clean.page))"
   ]
  },
  {
   "cell_type": "code",
   "execution_count": 30,
   "metadata": {},
   "outputs": [],
   "source": [
    "df_churn = df_churn.groupBy('userId').agg(F.sum('churn_user').alias('churn_group'))"
   ]
  },
  {
   "cell_type": "code",
   "execution_count": 31,
   "metadata": {},
   "outputs": [
    {
     "name": "stdout",
     "output_type": "stream",
     "text": [
      "+------+-----------+\n",
      "|userId|churn_group|\n",
      "+------+-----------+\n",
      "|100010|          0|\n",
      "|200002|          0|\n",
      "|   125|          1|\n",
      "|    51|          1|\n",
      "|   124|          0|\n",
      "|     7|          0|\n",
      "|    54|          1|\n",
      "|    15|          0|\n",
      "|   155|          0|\n",
      "|   132|          0|\n",
      "|   154|          0|\n",
      "|100014|          1|\n",
      "|   101|          1|\n",
      "|    11|          0|\n",
      "|   138|          0|\n",
      "|300017|          0|\n",
      "|    29|          1|\n",
      "|    69|          0|\n",
      "|100021|          1|\n",
      "|    42|          0|\n",
      "+------+-----------+\n",
      "only showing top 20 rows\n",
      "\n"
     ]
    }
   ],
   "source": [
    "df_churn.show()"
   ]
  },
  {
   "cell_type": "code",
   "execution_count": 32,
   "metadata": {
    "scrolled": true
   },
   "outputs": [
    {
     "name": "stdout",
     "output_type": "stream",
     "text": [
      "+------+--------------------+---------+---------+------+-------------+---------+---------+-----+--------------------+------+---------+-------------------+---------+--------------------+------+-------------------+--------------------+-----------+-----------+\n",
      "|userId|              artist|     auth|firstName|gender|itemInSession| lastName|   length|level|            location|method|     page|       registration|sessionId|                song|status|                 ts|           userAgent|churn_group|churn_group|\n",
      "+------+--------------------+---------+---------+------+-------------+---------+---------+-----+--------------------+------+---------+-------------------+---------+--------------------+------+-------------------+--------------------+-----------+-----------+\n",
      "|100010|Sleeping With Sirens|Logged In| Darianna|     F|            0|Carpenter|202.97098| free|Bridgeport-Stamfo...|   PUT| NextSong|2018-09-27 02:45:40|       31|Captain Tyin Knot...|   200|2018-10-08 12:58:54|\"Mozilla/5.0 (iPh...|          0|          0|\n",
      "|100010|Francesca Battist...|Logged In| Darianna|     F|            1|Carpenter|196.54485| free|Bridgeport-Stamfo...|   PUT| NextSong|2018-09-27 02:45:40|       31|Beautiful_ Beauti...|   200|2018-10-08 13:02:16|\"Mozilla/5.0 (iPh...|          0|          0|\n",
      "|100010|              Brutha|Logged In| Darianna|     F|            2|Carpenter|263.13098| free|Bridgeport-Stamfo...|   PUT| NextSong|2018-09-27 02:45:40|       31|          She's Gone|   200|2018-10-08 13:05:32|\"Mozilla/5.0 (iPh...|          0|          0|\n",
      "|100010|                null|Logged In| Darianna|     F|            3|Carpenter|     null| free|Bridgeport-Stamfo...|   PUT|Thumbs Up|2018-09-27 02:45:40|       31|                null|   307|2018-10-08 13:05:33|\"Mozilla/5.0 (iPh...|          0|          0|\n",
      "|100010|         Josh Ritter|Logged In| Darianna|     F|            4|Carpenter|316.23791| free|Bridgeport-Stamfo...|   PUT| NextSong|2018-09-27 02:45:40|       31|      Folk Bloodbath|   200|2018-10-08 13:09:55|\"Mozilla/5.0 (iPh...|          0|          0|\n",
      "+------+--------------------+---------+---------+------+-------------+---------+---------+-----+--------------------+------+---------+-------------------+---------+--------------------+------+-------------------+--------------------+-----------+-----------+\n",
      "only showing top 5 rows\n",
      "\n"
     ]
    }
   ],
   "source": [
    "# joining the churn column to the original column\n",
    "df_clean = df_clean.join(df_churn, ['userId'])\n",
    "df_clean.show(n = 5)"
   ]
  },
  {
   "cell_type": "code",
   "execution_count": 123,
   "metadata": {
    "scrolled": true
   },
   "outputs": [
    {
     "name": "stdout",
     "output_type": "stream",
     "text": [
      "root\n",
      " |-- userId: string (nullable = true)\n",
      " |-- artist: string (nullable = true)\n",
      " |-- auth: string (nullable = true)\n",
      " |-- firstName: string (nullable = true)\n",
      " |-- gender: string (nullable = true)\n",
      " |-- itemInSession: long (nullable = true)\n",
      " |-- lastName: string (nullable = true)\n",
      " |-- length: double (nullable = true)\n",
      " |-- level: string (nullable = true)\n",
      " |-- location: string (nullable = true)\n",
      " |-- method: string (nullable = true)\n",
      " |-- page: string (nullable = true)\n",
      " |-- registration: string (nullable = true)\n",
      " |-- sessionId: long (nullable = true)\n",
      " |-- song: string (nullable = true)\n",
      " |-- status: long (nullable = true)\n",
      " |-- ts: string (nullable = true)\n",
      " |-- userAgent: string (nullable = true)\n",
      " |-- churn_group: long (nullable = true)\n",
      "\n"
     ]
    }
   ],
   "source": [
    "df_clean.printSchema()"
   ]
  },
  {
   "cell_type": "code",
   "execution_count": 36,
   "metadata": {},
   "outputs": [
    {
     "data": {
      "text/html": [
       "<div>\n",
       "<style scoped>\n",
       "    .dataframe tbody tr th:only-of-type {\n",
       "        vertical-align: middle;\n",
       "    }\n",
       "\n",
       "    .dataframe tbody tr th {\n",
       "        vertical-align: top;\n",
       "    }\n",
       "\n",
       "    .dataframe thead th {\n",
       "        text-align: right;\n",
       "    }\n",
       "</style>\n",
       "<table border=\"1\" class=\"dataframe\">\n",
       "  <thead>\n",
       "    <tr style=\"text-align: right;\">\n",
       "      <th></th>\n",
       "      <th>churn_group</th>\n",
       "      <th>count</th>\n",
       "    </tr>\n",
       "  </thead>\n",
       "  <tbody>\n",
       "    <tr>\n",
       "      <th>0</th>\n",
       "      <td>no</td>\n",
       "      <td>173</td>\n",
       "    </tr>\n",
       "    <tr>\n",
       "      <th>1</th>\n",
       "      <td>yes</td>\n",
       "      <td>52</td>\n",
       "    </tr>\n",
       "  </tbody>\n",
       "</table>\n",
       "</div>"
      ],
      "text/plain": [
       "  churn_group  count\n",
       "0          no    173\n",
       "1         yes     52"
      ]
     },
     "execution_count": 36,
     "metadata": {},
     "output_type": "execute_result"
    }
   ],
   "source": [
    "# plot how many users who curn and not\n",
    "classify_churn = df_clean.select(\"userId\", \"churn_group\").distinct().groupBy(\"churn_group\").count().toPandas()\n",
    "classify_churn['churn_group'] = [\"no\", \"yes\"]\n",
    "classify_churn"
   ]
  },
  {
   "cell_type": "code",
   "execution_count": 37,
   "metadata": {},
   "outputs": [
    {
     "data": {
      "image/png": "[encoded data removed]",
      "text/plain": [
       "<matplotlib.figure.Figure at 0x7fd46b7f2ef0>"
      ]
     },
     "metadata": {
      "needs_background": "light"
     },
     "output_type": "display_data"
    }
   ],
   "source": [
    "sns.barplot(x =\"churn_group\", y = \"count\", data = classify_churn)\n",
    "plt.title('Number of Churned Users')\n",
    "plt.xlabel('Churned or Not')\n",
    "plt.ylabel('Total User')\n",
    "plt.show()"
   ]
  },
  {
   "cell_type": "markdown",
   "metadata": {},
   "source": [
    "### Exploratory Data Analysis for Churned and Not Churned"
   ]
  },
  {
   "cell_type": "markdown",
   "metadata": {},
   "source": [
    "#### Gender and Churned"
   ]
  },
  {
   "cell_type": "code",
   "execution_count": 38,
   "metadata": {},
   "outputs": [
    {
     "data": {
      "text/html": [
       "<div>\n",
       "<style scoped>\n",
       "    .dataframe tbody tr th:only-of-type {\n",
       "        vertical-align: middle;\n",
       "    }\n",
       "\n",
       "    .dataframe tbody tr th {\n",
       "        vertical-align: top;\n",
       "    }\n",
       "\n",
       "    .dataframe thead th {\n",
       "        text-align: right;\n",
       "    }\n",
       "</style>\n",
       "<table border=\"1\" class=\"dataframe\">\n",
       "  <thead>\n",
       "    <tr style=\"text-align: right;\">\n",
       "      <th></th>\n",
       "      <th>churn_group</th>\n",
       "      <th>gender</th>\n",
       "      <th>count</th>\n",
       "    </tr>\n",
       "  </thead>\n",
       "  <tbody>\n",
       "    <tr>\n",
       "      <th>0</th>\n",
       "      <td>0</td>\n",
       "      <td>F</td>\n",
       "      <td>84</td>\n",
       "    </tr>\n",
       "    <tr>\n",
       "      <th>1</th>\n",
       "      <td>1</td>\n",
       "      <td>M</td>\n",
       "      <td>32</td>\n",
       "    </tr>\n",
       "    <tr>\n",
       "      <th>2</th>\n",
       "      <td>1</td>\n",
       "      <td>F</td>\n",
       "      <td>20</td>\n",
       "    </tr>\n",
       "    <tr>\n",
       "      <th>3</th>\n",
       "      <td>0</td>\n",
       "      <td>M</td>\n",
       "      <td>89</td>\n",
       "    </tr>\n",
       "  </tbody>\n",
       "</table>\n",
       "</div>"
      ],
      "text/plain": [
       "   churn_group gender  count\n",
       "0            0      F     84\n",
       "1            1      M     32\n",
       "2            1      F     20\n",
       "3            0      M     89"
      ]
     },
     "execution_count": 38,
     "metadata": {},
     "output_type": "execute_result"
    }
   ],
   "source": [
    "gender_churn = df_clean.select(\"userId\", \"gender\", \"churn_group\").distinct().groupBy(\"churn_group\", \"gender\").count().toPandas()\n",
    "gender_churn"
   ]
  },
  {
   "cell_type": "code",
   "execution_count": 39,
   "metadata": {},
   "outputs": [
    {
     "data": {
      "image/png": "[encoded data removed]",
      "text/plain": [
       "<matplotlib.figure.Figure at 0x7fd46974e908>"
      ]
     },
     "metadata": {
      "needs_background": "light"
     },
     "output_type": "display_data"
    }
   ],
   "source": [
    "# plot the comparison of male and female who churned\n",
    "sns.barplot(x='churn_group', y='count', hue = 'gender', data = gender_churn)\n",
    "plt.title('Number of Churned Users by Gender')\n",
    "plt.xlabel('Churned or Not')\n",
    "plt.ylabel('Total User')\n",
    "plt.show()"
   ]
  },
  {
   "cell_type": "markdown",
   "metadata": {},
   "source": [
    "From the graph above, more male is both churned and not churned compared to female. \n",
    "In males, churn rate is 0.26 which is 0.19 in females"
   ]
  },
  {
   "cell_type": "markdown",
   "metadata": {},
   "source": [
    "#### Paid or Not and Churned"
   ]
  },
  {
   "cell_type": "code",
   "execution_count": 40,
   "metadata": {
    "scrolled": false
   },
   "outputs": [
    {
     "data": {
      "text/html": [
       "<div>\n",
       "<style scoped>\n",
       "    .dataframe tbody tr th:only-of-type {\n",
       "        vertical-align: middle;\n",
       "    }\n",
       "\n",
       "    .dataframe tbody tr th {\n",
       "        vertical-align: top;\n",
       "    }\n",
       "\n",
       "    .dataframe thead th {\n",
       "        text-align: right;\n",
       "    }\n",
       "</style>\n",
       "<table border=\"1\" class=\"dataframe\">\n",
       "  <thead>\n",
       "    <tr style=\"text-align: right;\">\n",
       "      <th></th>\n",
       "      <th>churn_group</th>\n",
       "      <th>level</th>\n",
       "      <th>count</th>\n",
       "    </tr>\n",
       "  </thead>\n",
       "  <tbody>\n",
       "    <tr>\n",
       "      <th>0</th>\n",
       "      <td>1</td>\n",
       "      <td>paid</td>\n",
       "      <td>8</td>\n",
       "    </tr>\n",
       "    <tr>\n",
       "      <th>1</th>\n",
       "      <td>1</td>\n",
       "      <td>free</td>\n",
       "      <td>44</td>\n",
       "    </tr>\n",
       "    <tr>\n",
       "      <th>2</th>\n",
       "      <td>0</td>\n",
       "      <td>free</td>\n",
       "      <td>133</td>\n",
       "    </tr>\n",
       "    <tr>\n",
       "      <th>3</th>\n",
       "      <td>0</td>\n",
       "      <td>paid</td>\n",
       "      <td>40</td>\n",
       "    </tr>\n",
       "  </tbody>\n",
       "</table>\n",
       "</div>"
      ],
      "text/plain": [
       "   churn_group level  count\n",
       "0            1  paid      8\n",
       "1            1  free     44\n",
       "2            0  free    133\n",
       "3            0  paid     40"
      ]
     },
     "execution_count": 40,
     "metadata": {},
     "output_type": "execute_result"
    }
   ],
   "source": [
    "level_churn = df_clean.dropDuplicates([\"userId\"]).groupby([\"churn_group\", \"level\"]).count().toPandas()\n",
    "level_churn"
   ]
  },
  {
   "cell_type": "code",
   "execution_count": 41,
   "metadata": {},
   "outputs": [
    {
     "data": {
      "image/png": "[encoded data removed]",
      "text/plain": [
       "<matplotlib.figure.Figure at 0x7fd4696aea90>"
      ]
     },
     "metadata": {
      "needs_background": "light"
     },
     "output_type": "display_data"
    }
   ],
   "source": [
    "# plot the comparison of paid and free users who churned\n",
    "sns.barplot(x='churn_group', y='count', hue = 'level', data = level_churn)\n",
    "plt.title('Number of Churned Users by Paid and Free Users')\n",
    "plt.xlabel('Churned or Not')\n",
    "plt.ylabel('Total User')\n",
    "plt.show()"
   ]
  },
  {
   "cell_type": "markdown",
   "metadata": {},
   "source": [
    "The ratio of paid users who churn is 0.17 while for free users it is 0.25. From the graph above, the ration of free users are higher both in churn and not churned."
   ]
  },
  {
   "cell_type": "markdown",
   "metadata": {},
   "source": [
    "#### Overview of the event on the page column"
   ]
  },
  {
   "cell_type": "code",
   "execution_count": 42,
   "metadata": {},
   "outputs": [
    {
     "data": {
      "text/plain": [
       "<matplotlib.axes._subplots.AxesSubplot at 0x7fd46962d6a0>"
      ]
     },
     "execution_count": 42,
     "metadata": {},
     "output_type": "execute_result"
    },
    {
     "data": {
      "image/png": "[encoded data removed]",
      "text/plain": [
       "<matplotlib.figure.Figure at 0x7fd46b7c81d0>"
      ]
     },
     "metadata": {
      "needs_background": "light"
     },
     "output_type": "display_data"
    }
   ],
   "source": [
    "df_page = df_clean.select([\"page\",\"churn_group\"]).groupby([ \"page\",\"churn_group\"]).count().sort(\"page\").toPandas()\n",
    "sns.barplot( x=\"count\",y=\"page\", hue=\"churn_group\", data=df_page)"
   ]
  },
  {
   "cell_type": "markdown",
   "metadata": {},
   "source": [
    "#### Number of Songs played - Churned and Not Churned Users"
   ]
  },
  {
   "cell_type": "code",
   "execution_count": 43,
   "metadata": {
    "scrolled": true
   },
   "outputs": [
    {
     "data": {
      "text/html": [
       "<div>\n",
       "<style scoped>\n",
       "    .dataframe tbody tr th:only-of-type {\n",
       "        vertical-align: middle;\n",
       "    }\n",
       "\n",
       "    .dataframe tbody tr th {\n",
       "        vertical-align: top;\n",
       "    }\n",
       "\n",
       "    .dataframe thead th {\n",
       "        text-align: right;\n",
       "    }\n",
       "</style>\n",
       "<table border=\"1\" class=\"dataframe\">\n",
       "  <thead>\n",
       "    <tr style=\"text-align: right;\">\n",
       "      <th></th>\n",
       "      <th>churn_group</th>\n",
       "      <th>count</th>\n",
       "    </tr>\n",
       "  </thead>\n",
       "  <tbody>\n",
       "    <tr>\n",
       "      <th>0</th>\n",
       "      <td>0</td>\n",
       "      <td>191714</td>\n",
       "    </tr>\n",
       "    <tr>\n",
       "      <th>1</th>\n",
       "      <td>1</td>\n",
       "      <td>36394</td>\n",
       "    </tr>\n",
       "  </tbody>\n",
       "</table>\n",
       "</div>"
      ],
      "text/plain": [
       "   churn_group   count\n",
       "0            0  191714\n",
       "1            1   36394"
      ]
     },
     "execution_count": 43,
     "metadata": {},
     "output_type": "execute_result"
    }
   ],
   "source": [
    "# number of songs played is indicated when user is clicking nextsong page\n",
    "# below is the total number of songs played (not with distinct users) since dropping duplicates users will reduce a lot of songs as well that the user play\n",
    "song_churn = df_clean.where(df_clean['page'] == 'NextSong').groupby([\"churn_group\"]).count().toPandas()\n",
    "song_churn"
   ]
  },
  {
   "cell_type": "code",
   "execution_count": 44,
   "metadata": {},
   "outputs": [
    {
     "data": {
      "text/html": [
       "<div>\n",
       "<style scoped>\n",
       "    .dataframe tbody tr th:only-of-type {\n",
       "        vertical-align: middle;\n",
       "    }\n",
       "\n",
       "    .dataframe tbody tr th {\n",
       "        vertical-align: top;\n",
       "    }\n",
       "\n",
       "    .dataframe thead th {\n",
       "        text-align: right;\n",
       "    }\n",
       "</style>\n",
       "<table border=\"1\" class=\"dataframe\">\n",
       "  <thead>\n",
       "    <tr style=\"text-align: right;\">\n",
       "      <th></th>\n",
       "      <th>churn_group</th>\n",
       "      <th>avgsong</th>\n",
       "    </tr>\n",
       "  </thead>\n",
       "  <tbody>\n",
       "    <tr>\n",
       "      <th>0</th>\n",
       "      <td>0</td>\n",
       "      <td>1108.173410</td>\n",
       "    </tr>\n",
       "    <tr>\n",
       "      <th>1</th>\n",
       "      <td>1</td>\n",
       "      <td>699.884615</td>\n",
       "    </tr>\n",
       "  </tbody>\n",
       "</table>\n",
       "</div>"
      ],
      "text/plain": [
       "   churn_group      avgsong\n",
       "0            0  1108.173410\n",
       "1            1   699.884615"
      ]
     },
     "execution_count": 44,
     "metadata": {},
     "output_type": "execute_result"
    }
   ],
   "source": [
    "song_avg = df_clean.where(df_clean['page'] == 'NextSong').groupby(\"churn_group\").agg((F.count(\"churn_group\")/F.countDistinct(\"userId\")).alias('avgsong')).toPandas()\n",
    "song_avg"
   ]
  },
  {
   "cell_type": "code",
   "execution_count": 45,
   "metadata": {
    "scrolled": false
   },
   "outputs": [
    {
     "data": {
      "image/png": "[encoded data removed]",
      "text/plain": [
       "<matplotlib.figure.Figure at 0x7fd46948f358>"
      ]
     },
     "metadata": {
      "needs_background": "light"
     },
     "output_type": "display_data"
    }
   ],
   "source": [
    "# plot the comparison of churned users and not by the next song page\n",
    "sns.barplot(x='churn_group', y='count', data = song_churn)\n",
    "plt.title('Number of Users by Total Number of Songs Played')\n",
    "plt.xlabel('Churned or Not')\n",
    "plt.ylabel('Song')\n",
    "plt.show()"
   ]
  },
  {
   "cell_type": "code",
   "execution_count": 46,
   "metadata": {},
   "outputs": [
    {
     "data": {
      "image/png": "[encoded data removed]",
      "text/plain": [
       "<matplotlib.figure.Figure at 0x7fd469561c88>"
      ]
     },
     "metadata": {
      "needs_background": "light"
     },
     "output_type": "display_data"
    }
   ],
   "source": [
    "# plot the comparison of churned users and not by the next song page\n",
    "sns.barplot(x='churn_group', y='avgsong', data = song_avg)\n",
    "plt.title('Avg number of Users by Total Number of Songs Played')\n",
    "plt.xlabel('Churned or Not')\n",
    "plt.ylabel('Song')\n",
    "plt.show()"
   ]
  },
  {
   "cell_type": "markdown",
   "metadata": {},
   "source": [
    "From the graph above, churned users have played way less songs than the non-churned one."
   ]
  },
  {
   "cell_type": "markdown",
   "metadata": {},
   "source": [
    "#### Average Number of Songs Played per Day for Churned and Non-Churned Users"
   ]
  },
  {
   "cell_type": "code",
   "execution_count": 47,
   "metadata": {},
   "outputs": [],
   "source": [
    "# filter to the next song action page only\n",
    "# convert timestamp(ts) to day format\n",
    "song_day =  df_clean.where('page == \"NextSong\"').withColumn('ts', F.date_trunc('day', F.col('ts')))\n",
    "# aggregate the number of page per day group by user id and the day \n",
    "song_day = song_day.groupBy(['userId', 'ts']).agg(F.count(F.col('page')).alias('numSong'))\n",
    "# group by again by users and get the avg of num of page next song per day for the user\n",
    "song_day = song_day. groupBy('userId').agg(F.avg(F.col('numSong')).alias('AvgNumSongPerDay'))\n",
    "# join the table with the df churn table and convert to Pandas\n",
    "pd_songday_churned = song_day.join(df_churn, ['userId']).toPandas()"
   ]
  },
  {
   "cell_type": "code",
   "execution_count": 48,
   "metadata": {
    "scrolled": true
   },
   "outputs": [
    {
     "data": {
      "text/html": [
       "<div>\n",
       "<style scoped>\n",
       "    .dataframe tbody tr th:only-of-type {\n",
       "        vertical-align: middle;\n",
       "    }\n",
       "\n",
       "    .dataframe tbody tr th {\n",
       "        vertical-align: top;\n",
       "    }\n",
       "\n",
       "    .dataframe thead th {\n",
       "        text-align: right;\n",
       "    }\n",
       "</style>\n",
       "<table border=\"1\" class=\"dataframe\">\n",
       "  <thead>\n",
       "    <tr style=\"text-align: right;\">\n",
       "      <th></th>\n",
       "      <th>userId</th>\n",
       "      <th>AvgNumSongPerDay</th>\n",
       "      <th>churn_group</th>\n",
       "    </tr>\n",
       "  </thead>\n",
       "  <tbody>\n",
       "    <tr>\n",
       "      <th>0</th>\n",
       "      <td>200002</td>\n",
       "      <td>55.285714</td>\n",
       "      <td>0</td>\n",
       "    </tr>\n",
       "    <tr>\n",
       "      <th>1</th>\n",
       "      <td>100010</td>\n",
       "      <td>39.285714</td>\n",
       "      <td>0</td>\n",
       "    </tr>\n",
       "    <tr>\n",
       "      <th>2</th>\n",
       "      <td>125</td>\n",
       "      <td>8.000000</td>\n",
       "      <td>1</td>\n",
       "    </tr>\n",
       "    <tr>\n",
       "      <th>3</th>\n",
       "      <td>124</td>\n",
       "      <td>127.468750</td>\n",
       "      <td>0</td>\n",
       "    </tr>\n",
       "    <tr>\n",
       "      <th>4</th>\n",
       "      <td>51</td>\n",
       "      <td>162.384615</td>\n",
       "      <td>1</td>\n",
       "    </tr>\n",
       "  </tbody>\n",
       "</table>\n",
       "</div>"
      ],
      "text/plain": [
       "   userId  AvgNumSongPerDay  churn_group\n",
       "0  200002         55.285714            0\n",
       "1  100010         39.285714            0\n",
       "2     125          8.000000            1\n",
       "3     124        127.468750            0\n",
       "4      51        162.384615            1"
      ]
     },
     "execution_count": 48,
     "metadata": {},
     "output_type": "execute_result"
    }
   ],
   "source": [
    "pd_songday_churned.head()"
   ]
  },
  {
   "cell_type": "code",
   "execution_count": 49,
   "metadata": {
    "scrolled": true
   },
   "outputs": [
    {
     "data": {
      "image/png": "[encoded data removed]",
      "text/plain": [
       "<matplotlib.figure.Figure at 0x7fd469472e10>"
      ]
     },
     "metadata": {
      "needs_background": "light"
     },
     "output_type": "display_data"
    }
   ],
   "source": [
    "# Sort the dataframe based on churn and not churn\n",
    "avgsong_nochurn = pd_songday_churned.loc[pd_songday_churned['churn_group'] == 0]\n",
    "avgsong_churn = pd_songday_churned.loc[pd_songday_churned['churn_group'] == 1]\n",
    "\n",
    "# plot the distribution of churn and not churn users\n",
    "sns.distplot(avgsong_nochurn[['AvgNumSongPerDay']], label = 'not_churn', color = 'green')\n",
    "sns.distplot(avgsong_churn[['AvgNumSongPerDay']], label = 'churn', color = 'orange')\n",
    "plt.title('Average Number of Song per Day')\n",
    "plt.xlabel('Average Song per Day')\n",
    "plt.ylabel('User Density')\n",
    "\n",
    "plt.legend()\n",
    "plt.show()"
   ]
  },
  {
   "cell_type": "markdown",
   "metadata": {},
   "source": [
    "#### Number of Songs Played per Hour"
   ]
  },
  {
   "cell_type": "code",
   "execution_count": 50,
   "metadata": {},
   "outputs": [],
   "source": [
    "# filter to the next song action page only\n",
    "# convert timestamp(ts) to hour format\n",
    "song_hour =  df_clean.where('page == \"NextSong\"').withColumn('hour_ts', F.date_trunc('hour', F.col('ts')))\n",
    "# aggregate the number of page per day group by user id and the day \n",
    "song_hour = song_hour.select(['song', 'hour_ts']).groupBy(['hour_ts']).agg(F.count(F.col('song')).alias('song')).orderBy('hour_ts').alias('countSong').toPandas()"
   ]
  },
  {
   "cell_type": "code",
   "execution_count": 51,
   "metadata": {
    "scrolled": false
   },
   "outputs": [
    {
     "data": {
      "text/html": [
       "<div>\n",
       "<style scoped>\n",
       "    .dataframe tbody tr th:only-of-type {\n",
       "        vertical-align: middle;\n",
       "    }\n",
       "\n",
       "    .dataframe tbody tr th {\n",
       "        vertical-align: top;\n",
       "    }\n",
       "\n",
       "    .dataframe thead th {\n",
       "        text-align: right;\n",
       "    }\n",
       "</style>\n",
       "<table border=\"1\" class=\"dataframe\">\n",
       "  <thead>\n",
       "    <tr style=\"text-align: right;\">\n",
       "      <th></th>\n",
       "      <th>hour_ts</th>\n",
       "      <th>song</th>\n",
       "    </tr>\n",
       "  </thead>\n",
       "  <tbody>\n",
       "    <tr>\n",
       "      <th>0</th>\n",
       "      <td>2018-10-01 00:00:00</td>\n",
       "      <td>45</td>\n",
       "    </tr>\n",
       "    <tr>\n",
       "      <th>1</th>\n",
       "      <td>2018-10-01 01:00:00</td>\n",
       "      <td>52</td>\n",
       "    </tr>\n",
       "    <tr>\n",
       "      <th>2</th>\n",
       "      <td>2018-10-01 02:00:00</td>\n",
       "      <td>51</td>\n",
       "    </tr>\n",
       "    <tr>\n",
       "      <th>3</th>\n",
       "      <td>2018-10-01 03:00:00</td>\n",
       "      <td>21</td>\n",
       "    </tr>\n",
       "    <tr>\n",
       "      <th>4</th>\n",
       "      <td>2018-10-01 04:00:00</td>\n",
       "      <td>40</td>\n",
       "    </tr>\n",
       "  </tbody>\n",
       "</table>\n",
       "</div>"
      ],
      "text/plain": [
       "              hour_ts  song\n",
       "0 2018-10-01 00:00:00    45\n",
       "1 2018-10-01 01:00:00    52\n",
       "2 2018-10-01 02:00:00    51\n",
       "3 2018-10-01 03:00:00    21\n",
       "4 2018-10-01 04:00:00    40"
      ]
     },
     "execution_count": 51,
     "metadata": {},
     "output_type": "execute_result"
    }
   ],
   "source": [
    "song_hour.head()"
   ]
  },
  {
   "cell_type": "markdown",
   "metadata": {},
   "source": [
    "#### Length of Song per Day for Churned and Non-Churned Users"
   ]
  },
  {
   "cell_type": "code",
   "execution_count": 52,
   "metadata": {},
   "outputs": [],
   "source": [
    "# filter to the next song action page only\n",
    "# convert timestamp(ts) to day format\n",
    "# length is defined for length of song (in second) played since it occurs only at page nextsong\n",
    "length_song_day =  df_clean.withColumn('ts', F.date_trunc('day', F.col('ts')))\n",
    "# aggregate the number of length per day group by user id and the day \n",
    "length_song_day = length_song_day.groupBy(['userId', 'ts']).agg(F.sum(F.col('length')).alias('lengthSongPerDay'))\n",
    "# group by again by users and get the avg of num of length song per day for the user\n",
    "length_song_day = length_song_day.groupBy('userId').agg(F.avg(F.col('lengthSongPerDay')).alias('AvgLengthSongPerDay'))\n",
    "# join the table with the df churn table and convert to Pandas\n",
    "pd_lengthsongday_churned = length_song_day.join(df_churn, ['userId']).toPandas()"
   ]
  },
  {
   "cell_type": "code",
   "execution_count": 53,
   "metadata": {},
   "outputs": [
    {
     "data": {
      "text/html": [
       "<div>\n",
       "<style scoped>\n",
       "    .dataframe tbody tr th:only-of-type {\n",
       "        vertical-align: middle;\n",
       "    }\n",
       "\n",
       "    .dataframe tbody tr th {\n",
       "        vertical-align: top;\n",
       "    }\n",
       "\n",
       "    .dataframe thead th {\n",
       "        text-align: right;\n",
       "    }\n",
       "</style>\n",
       "<table border=\"1\" class=\"dataframe\">\n",
       "  <thead>\n",
       "    <tr style=\"text-align: right;\">\n",
       "      <th></th>\n",
       "      <th>userId</th>\n",
       "      <th>AvgLengthSongPerDay</th>\n",
       "      <th>churn_group</th>\n",
       "    </tr>\n",
       "  </thead>\n",
       "  <tbody>\n",
       "    <tr>\n",
       "      <th>0</th>\n",
       "      <td>200002</td>\n",
       "      <td>13429.839420</td>\n",
       "      <td>0</td>\n",
       "    </tr>\n",
       "    <tr>\n",
       "      <th>1</th>\n",
       "      <td>100010</td>\n",
       "      <td>9562.985336</td>\n",
       "      <td>0</td>\n",
       "    </tr>\n",
       "    <tr>\n",
       "      <th>2</th>\n",
       "      <td>125</td>\n",
       "      <td>2089.113100</td>\n",
       "      <td>1</td>\n",
       "    </tr>\n",
       "    <tr>\n",
       "      <th>3</th>\n",
       "      <td>124</td>\n",
       "      <td>31634.752900</td>\n",
       "      <td>0</td>\n",
       "    </tr>\n",
       "    <tr>\n",
       "      <th>4</th>\n",
       "      <td>51</td>\n",
       "      <td>40251.987908</td>\n",
       "      <td>1</td>\n",
       "    </tr>\n",
       "  </tbody>\n",
       "</table>\n",
       "</div>"
      ],
      "text/plain": [
       "   userId  AvgLengthSongPerDay  churn_group\n",
       "0  200002         13429.839420            0\n",
       "1  100010          9562.985336            0\n",
       "2     125          2089.113100            1\n",
       "3     124         31634.752900            0\n",
       "4      51         40251.987908            1"
      ]
     },
     "execution_count": 53,
     "metadata": {},
     "output_type": "execute_result"
    }
   ],
   "source": [
    "pd_lengthsongday_churned.head()"
   ]
  },
  {
   "cell_type": "code",
   "execution_count": 54,
   "metadata": {},
   "outputs": [
    {
     "data": {
      "image/png": "[encoded data removed]",
      "text/plain": [
       "<matplotlib.figure.Figure at 0x7fd469365e10>"
      ]
     },
     "metadata": {
      "needs_background": "light"
     },
     "output_type": "display_data"
    }
   ],
   "source": [
    "# Sort the dataframe based on churn and not churn\n",
    "avglength_song_nochurn = pd_lengthsongday_churned.loc[pd_lengthsongday_churned['churn_group'] == 0]\n",
    "avglength_song_churn = pd_lengthsongday_churned.loc[pd_lengthsongday_churned['churn_group'] == 1]\n",
    "\n",
    "# plot the distribution of churn and not churn users\n",
    "sns.distplot(avglength_song_nochurn[['AvgLengthSongPerDay']], label = 'not_churn', color = 'green')\n",
    "sns.distplot(avglength_song_churn[['AvgLengthSongPerDay']], label = 'churn', color = 'orange')\n",
    "plt.title('Average Length of Song per Day')\n",
    "plt.xlabel('Average Length per Day')\n",
    "plt.ylabel('User Density')\n",
    "\n",
    "plt.legend()\n",
    "plt.show()"
   ]
  },
  {
   "cell_type": "markdown",
   "metadata": {},
   "source": [
    "#### Number of Item in Sessions for Churned and Non-Churned Users"
   ]
  },
  {
   "cell_type": "code",
   "execution_count": 55,
   "metadata": {
    "scrolled": false
   },
   "outputs": [
    {
     "name": "stdout",
     "output_type": "stream",
     "text": [
      "+------+---------+---------+\n",
      "|userId|sessionId|totalItem|\n",
      "+------+---------+---------+\n",
      "|    92|      358|       72|\n",
      "|    42|      433|       22|\n",
      "|   101|      635|      889|\n",
      "|   120|      627|      264|\n",
      "|   140|      798|        5|\n",
      "|   122|      691|        8|\n",
      "|    29|     1030|       18|\n",
      "|     8|     1200|       21|\n",
      "|    96|     1653|      165|\n",
      "|   153|     1794|       75|\n",
      "|    97|     2019|       85|\n",
      "|    35|     2270|       12|\n",
      "|   110|     1776|       23|\n",
      "|300011|       60|       39|\n",
      "|   137|      136|        6|\n",
      "|    40|      484|       83|\n",
      "|    35|      544|       15|\n",
      "|    24|      620|        9|\n",
      "|    47|       46|        2|\n",
      "|    85|     1098|       88|\n",
      "+------+---------+---------+\n",
      "only showing top 20 rows\n",
      "\n"
     ]
    }
   ],
   "source": [
    "# user id and session id is not unique, we use max value for iteminsession, since it increases incrementally in 1 session id\n",
    "item_churned =  df_clean.select('userId', 'sessionId', 'ItemInSession').groupBy('userId', 'sessionId').agg(F.max(F.col('itemInSession')).alias('totalItem'))\n",
    "item_churned.show()"
   ]
  },
  {
   "cell_type": "code",
   "execution_count": 56,
   "metadata": {},
   "outputs": [
    {
     "name": "stdout",
     "output_type": "stream",
     "text": [
      "+------+------------------+\n",
      "|userId|  avgItemInSession|\n",
      "+------+------------------+\n",
      "|100010| 54.42857142857143|\n",
      "|200002|              80.0|\n",
      "|   125|              10.0|\n",
      "|    51|             251.9|\n",
      "|   124|170.13793103448276|\n",
      "|     7|28.428571428571427|\n",
      "|    54| 94.21621621621621|\n",
      "|    15|154.86666666666667|\n",
      "|   155|171.66666666666666|\n",
      "|100014|51.833333333333336|\n",
      "|   132|          147.9375|\n",
      "|   154|41.333333333333336|\n",
      "|   101|             219.7|\n",
      "|    11|              54.0|\n",
      "|300017| 70.76190476190476|\n",
      "|   138|166.93333333333334|\n",
      "|    29| 107.8529411764706|\n",
      "|    69|150.88888888888889|\n",
      "|100021|              66.4|\n",
      "|    42| 91.70212765957447|\n",
      "+------+------------------+\n",
      "only showing top 20 rows\n",
      "\n"
     ]
    }
   ],
   "source": [
    "item_churned = item_churned.groupBy('userId').agg(F.avg(F.col('totalItem')).alias('avgItemInSession'))\n",
    "item_churned.show()"
   ]
  },
  {
   "cell_type": "code",
   "execution_count": 57,
   "metadata": {
    "scrolled": true
   },
   "outputs": [
    {
     "data": {
      "image/png": "[encoded data removed]",
      "text/plain": [
       "<matplotlib.figure.Figure at 0x7fd4693ab908>"
      ]
     },
     "metadata": {
      "needs_background": "light"
     },
     "output_type": "display_data"
    }
   ],
   "source": [
    "# join the item per session table with the churn df and convert to Pandas\n",
    "pd_item_churned = item_churned.join(df_churn, ['userId']).toPandas()\n",
    "\n",
    "# Sort the dataframe based on churn and not churn\n",
    "itemsess_nochurn = pd_item_churned.loc[pd_item_churned['churn_group'] == 0]\n",
    "itemsess_churn = pd_item_churned.loc[pd_item_churned['churn_group'] == 1]\n",
    "\n",
    "# plot the distribution of churn and not churn users\n",
    "sns.distplot(itemsess_nochurn[['avgItemInSession']], label = 'no_churn', color = 'green')\n",
    "sns.distplot(itemsess_churn[['avgItemInSession']], label = 'churn', color ='orange')\n",
    "plt.title('Average Activities per Session')\n",
    "plt.xlabel('Average Number of Items per Session')\n",
    "plt.ylabel('Total User')\n",
    "\n",
    "plt.legend()\n",
    "plt.show()"
   ]
  },
  {
   "cell_type": "markdown",
   "metadata": {},
   "source": [
    "From the distribution plot above, the churn distributor is more rightly skewed that the no churn users."
   ]
  },
  {
   "cell_type": "code",
   "execution_count": 58,
   "metadata": {
    "scrolled": false
   },
   "outputs": [
    {
     "data": {
      "text/html": [
       "<div>\n",
       "<style scoped>\n",
       "    .dataframe tbody tr th:only-of-type {\n",
       "        vertical-align: middle;\n",
       "    }\n",
       "\n",
       "    .dataframe tbody tr th {\n",
       "        vertical-align: top;\n",
       "    }\n",
       "\n",
       "    .dataframe thead th {\n",
       "        text-align: right;\n",
       "    }\n",
       "</style>\n",
       "<table border=\"1\" class=\"dataframe\">\n",
       "  <thead>\n",
       "    <tr style=\"text-align: right;\">\n",
       "      <th></th>\n",
       "      <th>userId</th>\n",
       "      <th>avgItemInSession</th>\n",
       "      <th>churn_group</th>\n",
       "    </tr>\n",
       "  </thead>\n",
       "  <tbody>\n",
       "    <tr>\n",
       "      <th>0</th>\n",
       "      <td>100010</td>\n",
       "      <td>54.428571</td>\n",
       "      <td>0</td>\n",
       "    </tr>\n",
       "    <tr>\n",
       "      <th>1</th>\n",
       "      <td>200002</td>\n",
       "      <td>80.000000</td>\n",
       "      <td>0</td>\n",
       "    </tr>\n",
       "    <tr>\n",
       "      <th>2</th>\n",
       "      <td>125</td>\n",
       "      <td>10.000000</td>\n",
       "      <td>1</td>\n",
       "    </tr>\n",
       "    <tr>\n",
       "      <th>3</th>\n",
       "      <td>51</td>\n",
       "      <td>251.900000</td>\n",
       "      <td>1</td>\n",
       "    </tr>\n",
       "    <tr>\n",
       "      <th>4</th>\n",
       "      <td>124</td>\n",
       "      <td>170.137931</td>\n",
       "      <td>0</td>\n",
       "    </tr>\n",
       "  </tbody>\n",
       "</table>\n",
       "</div>"
      ],
      "text/plain": [
       "   userId  avgItemInSession  churn_group\n",
       "0  100010         54.428571            0\n",
       "1  200002         80.000000            0\n",
       "2     125         10.000000            1\n",
       "3      51        251.900000            1\n",
       "4     124        170.137931            0"
      ]
     },
     "execution_count": 58,
     "metadata": {},
     "output_type": "execute_result"
    }
   ],
   "source": [
    "pd_item_churned.head()"
   ]
  },
  {
   "cell_type": "markdown",
   "metadata": {},
   "source": [
    "#### Average number of session per day for those who churned and not"
   ]
  },
  {
   "cell_type": "code",
   "execution_count": 59,
   "metadata": {},
   "outputs": [],
   "source": [
    "# convert timestamp(ts) to day format\n",
    "item_session_day =  df_clean.withColumn('ts', F.date_trunc('day', F.col('ts')))\n",
    "# aggregate the number of session per day group by user id and the day \n",
    "item_session_day = item_session_day.groupBy(['userId', 'ts']).agg(F.countDistinct(F.col('sessionId')).alias('numSession'))\n",
    "# group by again by users and get the avg of num of session per day for the user\n",
    "item_session_day = item_session_day.groupBy('userId').agg(F.avg(F.col('numSession')).alias('AvgNumSessionPerDay'))\n",
    "# join the table with the df churn table and convert to Pandas\n",
    "pd_sessday_churned = item_session_day.join(df_churn, ['userId']).toPandas()"
   ]
  },
  {
   "cell_type": "code",
   "execution_count": 60,
   "metadata": {
    "scrolled": false
   },
   "outputs": [
    {
     "data": {
      "text/html": [
       "<div>\n",
       "<style scoped>\n",
       "    .dataframe tbody tr th:only-of-type {\n",
       "        vertical-align: middle;\n",
       "    }\n",
       "\n",
       "    .dataframe tbody tr th {\n",
       "        vertical-align: top;\n",
       "    }\n",
       "\n",
       "    .dataframe thead th {\n",
       "        text-align: right;\n",
       "    }\n",
       "</style>\n",
       "<table border=\"1\" class=\"dataframe\">\n",
       "  <thead>\n",
       "    <tr style=\"text-align: right;\">\n",
       "      <th></th>\n",
       "      <th>userId</th>\n",
       "      <th>AvgNumSessionPerDay</th>\n",
       "      <th>churn_group</th>\n",
       "    </tr>\n",
       "  </thead>\n",
       "  <tbody>\n",
       "    <tr>\n",
       "      <th>0</th>\n",
       "      <td>200002</td>\n",
       "      <td>1.000000</td>\n",
       "      <td>0</td>\n",
       "    </tr>\n",
       "    <tr>\n",
       "      <th>1</th>\n",
       "      <td>100010</td>\n",
       "      <td>1.000000</td>\n",
       "      <td>0</td>\n",
       "    </tr>\n",
       "    <tr>\n",
       "      <th>2</th>\n",
       "      <td>125</td>\n",
       "      <td>1.000000</td>\n",
       "      <td>1</td>\n",
       "    </tr>\n",
       "    <tr>\n",
       "      <th>3</th>\n",
       "      <td>124</td>\n",
       "      <td>1.242424</td>\n",
       "      <td>0</td>\n",
       "    </tr>\n",
       "    <tr>\n",
       "      <th>4</th>\n",
       "      <td>51</td>\n",
       "      <td>1.230769</td>\n",
       "      <td>1</td>\n",
       "    </tr>\n",
       "  </tbody>\n",
       "</table>\n",
       "</div>"
      ],
      "text/plain": [
       "   userId  AvgNumSessionPerDay  churn_group\n",
       "0  200002             1.000000            0\n",
       "1  100010             1.000000            0\n",
       "2     125             1.000000            1\n",
       "3     124             1.242424            0\n",
       "4      51             1.230769            1"
      ]
     },
     "execution_count": 60,
     "metadata": {},
     "output_type": "execute_result"
    }
   ],
   "source": [
    "pd_sessday_churned.head()"
   ]
  },
  {
   "cell_type": "code",
   "execution_count": 61,
   "metadata": {
    "scrolled": true
   },
   "outputs": [
    {
     "data": {
      "image/png": "[encoded data removed]",
      "text/plain": [
       "<matplotlib.figure.Figure at 0x7fd4693fc780>"
      ]
     },
     "metadata": {
      "needs_background": "light"
     },
     "output_type": "display_data"
    }
   ],
   "source": [
    "# Sort the dataframe based on churn and not churn\n",
    "avgsess_nochurn = pd_sessday_churned.loc[pd_sessday_churned['churn_group'] == 0]\n",
    "avgsess_churn = pd_sessday_churned.loc[pd_sessday_churned['churn_group'] == 1]\n",
    "\n",
    "# plot the distribution of churn and not churn users\n",
    "sns.distplot(avgsess_nochurn[['AvgNumSessionPerDay']], label = 'no_churn', color = 'green')\n",
    "sns.distplot(avgsess_churn[['AvgNumSessionPerDay']], label = 'churn', color = 'orange')\n",
    "plt.title('Average Number of Session per Day')\n",
    "plt.xlabel('Average Session per Day')\n",
    "plt.ylabel('User Density')\n",
    "\n",
    "plt.legend()\n",
    "plt.show()"
   ]
  },
  {
   "cell_type": "markdown",
   "metadata": {},
   "source": [
    "From the distribution plot above, the churned users have lower maximum value and have 'fatter' distribution compared to the non-churned one. "
   ]
  },
  {
   "cell_type": "markdown",
   "metadata": {},
   "source": [
    "#### Thumbs Down and Thumbs Up Users"
   ]
  },
  {
   "cell_type": "code",
   "execution_count": 62,
   "metadata": {},
   "outputs": [
    {
     "data": {
      "text/html": [
       "<div>\n",
       "<style scoped>\n",
       "    .dataframe tbody tr th:only-of-type {\n",
       "        vertical-align: middle;\n",
       "    }\n",
       "\n",
       "    .dataframe tbody tr th {\n",
       "        vertical-align: top;\n",
       "    }\n",
       "\n",
       "    .dataframe thead th {\n",
       "        text-align: right;\n",
       "    }\n",
       "</style>\n",
       "<table border=\"1\" class=\"dataframe\">\n",
       "  <thead>\n",
       "    <tr style=\"text-align: right;\">\n",
       "      <th></th>\n",
       "      <th>churn_group</th>\n",
       "      <th>count</th>\n",
       "    </tr>\n",
       "  </thead>\n",
       "  <tbody>\n",
       "    <tr>\n",
       "      <th>0</th>\n",
       "      <td>0</td>\n",
       "      <td>2050</td>\n",
       "    </tr>\n",
       "    <tr>\n",
       "      <th>1</th>\n",
       "      <td>1</td>\n",
       "      <td>496</td>\n",
       "    </tr>\n",
       "  </tbody>\n",
       "</table>\n",
       "</div>"
      ],
      "text/plain": [
       "   churn_group  count\n",
       "0            0   2050\n",
       "1            1    496"
      ]
     },
     "execution_count": 62,
     "metadata": {},
     "output_type": "execute_result"
    }
   ],
   "source": [
    "td_churn = df_clean.where(df_clean['page'] == 'Thumbs Down').groupby([\"churn_group\"]).count().toPandas()\n",
    "td_churn"
   ]
  },
  {
   "cell_type": "code",
   "execution_count": 63,
   "metadata": {},
   "outputs": [
    {
     "data": {
      "image/png": "[encoded data removed]",
      "text/plain": [
       "<matplotlib.figure.Figure at 0x7fd46965f978>"
      ]
     },
     "metadata": {
      "needs_background": "light"
     },
     "output_type": "display_data"
    }
   ],
   "source": [
    "# plot no of users who churned and not by thumbs down page\n",
    "sns.barplot(x='churn_group', y='count', data = td_churn)\n",
    "plt.title('Number of Users by Total Thumbs Down')\n",
    "plt.xlabel('Churned or Not')\n",
    "plt.ylabel('Total User')\n",
    "plt.show()"
   ]
  },
  {
   "cell_type": "code",
   "execution_count": 64,
   "metadata": {},
   "outputs": [
    {
     "data": {
      "text/html": [
       "<div>\n",
       "<style scoped>\n",
       "    .dataframe tbody tr th:only-of-type {\n",
       "        vertical-align: middle;\n",
       "    }\n",
       "\n",
       "    .dataframe tbody tr th {\n",
       "        vertical-align: top;\n",
       "    }\n",
       "\n",
       "    .dataframe thead th {\n",
       "        text-align: right;\n",
       "    }\n",
       "</style>\n",
       "<table border=\"1\" class=\"dataframe\">\n",
       "  <thead>\n",
       "    <tr style=\"text-align: right;\">\n",
       "      <th></th>\n",
       "      <th>churn_group</th>\n",
       "      <th>count</th>\n",
       "    </tr>\n",
       "  </thead>\n",
       "  <tbody>\n",
       "    <tr>\n",
       "      <th>0</th>\n",
       "      <td>0</td>\n",
       "      <td>10692</td>\n",
       "    </tr>\n",
       "    <tr>\n",
       "      <th>1</th>\n",
       "      <td>1</td>\n",
       "      <td>1859</td>\n",
       "    </tr>\n",
       "  </tbody>\n",
       "</table>\n",
       "</div>"
      ],
      "text/plain": [
       "   churn_group  count\n",
       "0            0  10692\n",
       "1            1   1859"
      ]
     },
     "execution_count": 64,
     "metadata": {},
     "output_type": "execute_result"
    }
   ],
   "source": [
    "tu_churn = df_clean.where(df_clean['page'] == 'Thumbs Up').groupby([\"churn_group\"]).count().toPandas()\n",
    "tu_churn"
   ]
  },
  {
   "cell_type": "code",
   "execution_count": 65,
   "metadata": {
    "scrolled": false
   },
   "outputs": [
    {
     "data": {
      "image/png": "[encoded data removed]",
      "text/plain": [
       "<matplotlib.figure.Figure at 0x7fd4696f8630>"
      ]
     },
     "metadata": {
      "needs_background": "light"
     },
     "output_type": "display_data"
    }
   ],
   "source": [
    "# plot no of users who churned and not by thumbs ip page\n",
    "sns.barplot(x='churn_group', y='count', data = tu_churn)\n",
    "plt.title('Number of Users by Total Thumbs Up')\n",
    "plt.xlabel('Churned or Not')\n",
    "plt.ylabel('Total User')\n",
    "plt.show()"
   ]
  },
  {
   "cell_type": "markdown",
   "metadata": {},
   "source": [
    "# Feature Engineering\n",
    "Once you've familiarized yourself with the data, build out the features you find promising to train your model on. To work with the full dataset, you can follow the following steps.\n",
    "- Write a script to extract the necessary features from the smaller subset of data\n",
    "- Ensure that your script is scalable, using the best practices discussed in Lesson 3\n",
    "- Try your script on the full data set, debugging your script if necessary\n",
    "\n",
    "If you are working in the classroom workspace, you can just extract features based on the small subset of data contained here. Be sure to transfer over this work to the larger dataset when you work on your Spark cluster."
   ]
  },
  {
   "cell_type": "code",
   "execution_count": 66,
   "metadata": {},
   "outputs": [
    {
     "name": "stdout",
     "output_type": "stream",
     "text": [
      "+------+-----------+\n",
      "|userId|churn_group|\n",
      "+------+-----------+\n",
      "|100010|          0|\n",
      "|200002|          0|\n",
      "|   125|          1|\n",
      "|    51|          1|\n",
      "|   124|          0|\n",
      "|     7|          0|\n",
      "|    54|          1|\n",
      "|    15|          0|\n",
      "|   155|          0|\n",
      "|   132|          0|\n",
      "|   154|          0|\n",
      "|100014|          1|\n",
      "|   101|          1|\n",
      "|    11|          0|\n",
      "|   138|          0|\n",
      "|300017|          0|\n",
      "|    29|          1|\n",
      "|    69|          0|\n",
      "|100021|          1|\n",
      "|    42|          0|\n",
      "+------+-----------+\n",
      "only showing top 20 rows\n",
      "\n"
     ]
    }
   ],
   "source": [
    "# check the existing df\n",
    "df_churn.show()"
   ]
  },
  {
   "cell_type": "code",
   "execution_count": 67,
   "metadata": {
    "scrolled": true
   },
   "outputs": [
    {
     "name": "stdout",
     "output_type": "stream",
     "text": [
      "root\n",
      " |-- userId: string (nullable = true)\n",
      " |-- artist: string (nullable = true)\n",
      " |-- auth: string (nullable = true)\n",
      " |-- firstName: string (nullable = true)\n",
      " |-- gender: string (nullable = true)\n",
      " |-- itemInSession: long (nullable = true)\n",
      " |-- lastName: string (nullable = true)\n",
      " |-- length: double (nullable = true)\n",
      " |-- level: string (nullable = true)\n",
      " |-- location: string (nullable = true)\n",
      " |-- method: string (nullable = true)\n",
      " |-- page: string (nullable = true)\n",
      " |-- registration: string (nullable = true)\n",
      " |-- sessionId: long (nullable = true)\n",
      " |-- song: string (nullable = true)\n",
      " |-- status: long (nullable = true)\n",
      " |-- ts: string (nullable = true)\n",
      " |-- userAgent: string (nullable = true)\n",
      " |-- churn_group: long (nullable = true)\n",
      "\n"
     ]
    }
   ],
   "source": [
    "# check the existing df\n",
    "df_clean.printSchema()"
   ]
  },
  {
   "cell_type": "markdown",
   "metadata": {},
   "source": [
    "### Extracting Features"
   ]
  },
  {
   "cell_type": "code",
   "execution_count": 33,
   "metadata": {},
   "outputs": [],
   "source": [
    "# new df for model training\n",
    "df_model = df_churn"
   ]
  },
  {
   "cell_type": "markdown",
   "metadata": {},
   "source": [
    "####  Feature from Page Column"
   ]
  },
  {
   "cell_type": "code",
   "execution_count": 34,
   "metadata": {
    "scrolled": true
   },
   "outputs": [
    {
     "data": {
      "text/plain": [
       "['Cancel',\n",
       " 'Submit Downgrade',\n",
       " 'Thumbs Down',\n",
       " 'Home',\n",
       " 'Downgrade',\n",
       " 'Roll Advert',\n",
       " 'Logout',\n",
       " 'Save Settings',\n",
       " 'About',\n",
       " 'Settings',\n",
       " 'Add to Playlist',\n",
       " 'Add Friend',\n",
       " 'Thumbs Up',\n",
       " 'Help',\n",
       " 'Upgrade',\n",
       " 'Error',\n",
       " 'Submit Upgrade']"
      ]
     },
     "execution_count": 34,
     "metadata": {},
     "output_type": "execute_result"
    }
   ],
   "source": [
    "# selecting all pages except for nextsong and cancellation confirmation  and make it into list\n",
    "pages = df_clean.select('page').distinct().toPandas()\n",
    "list_page = pages.page.tolist()\n",
    "\n",
    "list_page.remove('Cancellation Confirmation')\n",
    "list_page.remove('NextSong')\n",
    "list_page"
   ]
  },
  {
   "cell_type": "code",
   "execution_count": 35,
   "metadata": {},
   "outputs": [],
   "source": [
    "# create a function to extract features from the page columns\n",
    "def page_feature(df, page_name):\n",
    "    page_df = df.where(df.page == page_name).groupBy(['userId']).\\\n",
    "    agg(F.count(F.col('page')).alias('Count' + page_name.replace(' ', ''))).drop('page')\n",
    "    return page_df"
   ]
  },
  {
   "cell_type": "code",
   "execution_count": 36,
   "metadata": {},
   "outputs": [],
   "source": [
    "# loop through the name of pages and use the function\n",
    "# join the new df with the df where pages is extracted\n",
    "for feature in list_page:\n",
    "    page_df = page_feature(df_clean, feature)\n",
    "    df_model = df_model.join(page_df, ['userId'], 'left').fillna(0)"
   ]
  },
  {
   "cell_type": "code",
   "execution_count": 37,
   "metadata": {},
   "outputs": [
    {
     "data": {
      "text/plain": [
       "Row(userId='100010', churn_group=0, CountCancel=0, CountSubmitDowngrade=0, CountThumbsDown=5, CountHome=11, CountDowngrade=0, CountRollAdvert=52, CountLogout=5, CountSaveSettings=0, CountAbout=1, CountSettings=0, CountAddtoPlaylist=7, CountAddFriend=4, CountThumbsUp=17, CountHelp=2, CountUpgrade=2, CountError=0, CountSubmitUpgrade=0)"
      ]
     },
     "execution_count": 37,
     "metadata": {},
     "output_type": "execute_result"
    }
   ],
   "source": [
    "df_model.head()"
   ]
  },
  {
   "cell_type": "markdown",
   "metadata": {},
   "source": [
    "####  Feature from Gender Column"
   ]
  },
  {
   "cell_type": "code",
   "execution_count": 38,
   "metadata": {},
   "outputs": [],
   "source": [
    "# selecting the gender column\n",
    "gender_df = df_clean.select('userId', 'gender').distinct()\n",
    "# converting the gender into integer type with lambda function\n",
    "gender_categories = F.udf(lambda gender: 0 if gender == 'M' else 1, IntegerType())\n",
    "# adding gender categories as a new column\n",
    "gender_df = gender_df.withColumn('gender', gender_categories(F.col('gender')))\n",
    "# joining gender column to the model colum\n",
    "df_model = df_model.join(gender_df, ['userId'])"
   ]
  },
  {
   "cell_type": "code",
   "execution_count": 74,
   "metadata": {},
   "outputs": [
    {
     "data": {
      "text/plain": [
       "Row(userId='100010', churn_group=0, CountCancel=0, CountSubmitDowngrade=0, CountThumbsDown=5, CountHome=11, CountDowngrade=0, CountRollAdvert=52, CountLogout=5, CountSaveSettings=0, CountAbout=1, CountSettings=0, CountAddtoPlaylist=7, CountAddFriend=4, CountThumbsUp=17, CountHelp=2, CountUpgrade=2, CountError=0, CountSubmitUpgrade=0, gender=1)"
      ]
     },
     "execution_count": 74,
     "metadata": {},
     "output_type": "execute_result"
    }
   ],
   "source": [
    "# checking the new gender column\n",
    "df_model.head()"
   ]
  },
  {
   "cell_type": "markdown",
   "metadata": {},
   "source": [
    "####  Feature from Level Column - Paid or Free Users?"
   ]
  },
  {
   "cell_type": "code",
   "execution_count": 39,
   "metadata": {},
   "outputs": [],
   "source": [
    "# selecting the level column\n",
    "level_df = df_clean.select('userId', 'level').groupBy('userId').agg(F.max(F.col('level')).alias('isPaid'))\n",
    "# converting the level into integer type with lambda funciton\n",
    "level_category = F.udf(lambda level: 0 if level == 'free' else 1, IntegerType())\n",
    "# adding level category as a new column\n",
    "level_df = level_df.withColumn('isPaid', level_category(F.col('isPaid')))\n",
    "# joining level column to the model colum\n",
    "df_model = df_model.join(level_df, ['userId'])"
   ]
  },
  {
   "cell_type": "code",
   "execution_count": 76,
   "metadata": {},
   "outputs": [
    {
     "data": {
      "text/plain": [
       "Row(userId='100010', churn_group=0, CountCancel=0, CountSubmitDowngrade=0, CountThumbsDown=5, CountHome=11, CountDowngrade=0, CountRollAdvert=52, CountLogout=5, CountSaveSettings=0, CountAbout=1, CountSettings=0, CountAddtoPlaylist=7, CountAddFriend=4, CountThumbsUp=17, CountHelp=2, CountUpgrade=2, CountError=0, CountSubmitUpgrade=0, gender=1, isPaid=0)"
      ]
     },
     "execution_count": 76,
     "metadata": {},
     "output_type": "execute_result"
    }
   ],
   "source": [
    "# checking the new ispaid column\n",
    "df_model.head()"
   ]
  },
  {
   "cell_type": "markdown",
   "metadata": {},
   "source": [
    "#### Feature From Page Column - Total Number of Song Played by User"
   ]
  },
  {
   "cell_type": "code",
   "execution_count": 40,
   "metadata": {},
   "outputs": [],
   "source": [
    "# selecting user id and page and filter it only on the nextsong and aggregate it to find the count\n",
    "song_df = df_clean.select('userId', 'page').where(df_clean['page'] == 'NextSong').groupby(['userId']).agg(F.count(F.col('page')).alias('countSong'))\n",
    "\n",
    "# joining song df to the model df\n",
    "df_model = df_model.join(song_df, ['userId'])                                                                                                      "
   ]
  },
  {
   "cell_type": "code",
   "execution_count": 78,
   "metadata": {},
   "outputs": [
    {
     "data": {
      "text/plain": [
       "Row(userId='100010', churn_group=0, CountCancel=0, CountSubmitDowngrade=0, CountThumbsDown=5, CountHome=11, CountDowngrade=0, CountRollAdvert=52, CountLogout=5, CountSaveSettings=0, CountAbout=1, CountSettings=0, CountAddtoPlaylist=7, CountAddFriend=4, CountThumbsUp=17, CountHelp=2, CountUpgrade=2, CountError=0, CountSubmitUpgrade=0, gender=1, isPaid=0, countSong=275)"
      ]
     },
     "execution_count": 78,
     "metadata": {},
     "output_type": "execute_result"
    }
   ],
   "source": [
    "# checking the count song column\n",
    "df_model.head()"
   ]
  },
  {
   "cell_type": "markdown",
   "metadata": {},
   "source": [
    "#### Feature From IteminSession Column - Average Number of Item in 1 Session"
   ]
  },
  {
   "cell_type": "code",
   "execution_count": 41,
   "metadata": {},
   "outputs": [],
   "source": [
    "# selectng user session id and item in session\n",
    "avgItemSession = df_clean.select('userId', 'sessionId', 'ItemInSession')\n",
    "# group by user and session and find the number of item per session\n",
    "avgItemSession = avgItemSession.groupBy('userId', 'sessionId').agg(F.max(F.col('itemInSession')).alias('numItem'))\n",
    "# find the average\n",
    "avgItemSession = avgItemSession.groupBy('userId').agg(F.avg(F.col('numItem')).alias('avgNumItemSession'))\n",
    "\n",
    "# joining the avg item session table to model df\n",
    "df_model = df_model.join(avgItemSession, ['userId'])"
   ]
  },
  {
   "cell_type": "code",
   "execution_count": 80,
   "metadata": {},
   "outputs": [
    {
     "data": {
      "text/plain": [
       "Row(userId='100010', churn_group=0, CountCancel=0, CountSubmitDowngrade=0, CountThumbsDown=5, CountHome=11, CountDowngrade=0, CountRollAdvert=52, CountLogout=5, CountSaveSettings=0, CountAbout=1, CountSettings=0, CountAddtoPlaylist=7, CountAddFriend=4, CountThumbsUp=17, CountHelp=2, CountUpgrade=2, CountError=0, CountSubmitUpgrade=0, gender=1, isPaid=0, countSong=275, avgNumItemSession=54.42857142857143)"
      ]
     },
     "execution_count": 80,
     "metadata": {},
     "output_type": "execute_result"
    }
   ],
   "source": [
    "df_model.head()"
   ]
  },
  {
   "cell_type": "markdown",
   "metadata": {},
   "source": [
    "#### Feature From SessionId Column - Average Number of Session per Day"
   ]
  },
  {
   "cell_type": "code",
   "execution_count": 42,
   "metadata": {},
   "outputs": [],
   "source": [
    "# convert timestamp(ts) to day format\n",
    "sessDay_df =  df_clean.withColumn('ts', F.date_trunc('day', F.col('ts')))\n",
    "# aggregate the number of session per day group by user id and the day \n",
    "sessDay_df = sessDay_df.groupBy(['userId', 'ts']).agg(F.countDistinct(F.col('sessionId')).alias('numSession'))\n",
    "# group by again by users and get the avg of num of session per day for the user\n",
    "sessDay_df = sessDay_df.groupBy('userId').agg(F.avg(F.col('numSession')).alias('AvgNumSessionPerDay'))\n",
    "# join the table with the df churn table and convert to Pandas\n",
    "df_model = df_model.join(sessDay_df, ['userId'])"
   ]
  },
  {
   "cell_type": "code",
   "execution_count": 82,
   "metadata": {},
   "outputs": [
    {
     "data": {
      "text/plain": [
       "Row(userId='100010', churn_group=0, CountCancel=0, CountSubmitDowngrade=0, CountThumbsDown=5, CountHome=11, CountDowngrade=0, CountRollAdvert=52, CountLogout=5, CountSaveSettings=0, CountAbout=1, CountSettings=0, CountAddtoPlaylist=7, CountAddFriend=4, CountThumbsUp=17, CountHelp=2, CountUpgrade=2, CountError=0, CountSubmitUpgrade=0, gender=1, isPaid=0, countSong=275, avgNumItemSession=54.42857142857143, AvgNumSessionPerDay=1.0)"
      ]
     },
     "execution_count": 82,
     "metadata": {},
     "output_type": "execute_result"
    }
   ],
   "source": [
    "df_model.head()"
   ]
  },
  {
   "cell_type": "markdown",
   "metadata": {},
   "source": [
    "#### Feature From Page NextSong Column - Average Number of Song Played per Day"
   ]
  },
  {
   "cell_type": "code",
   "execution_count": 43,
   "metadata": {},
   "outputs": [],
   "source": [
    "# filter to the next song action page only\n",
    "# convert timestamp(ts) to day format\n",
    "avgSong_day =  df_clean.where('page == \"NextSong\"').withColumn('ts', F.date_trunc('day', F.col('ts')))\n",
    "# aggregate the number of page per day group by user id and the day \n",
    "avgSong_day = avgSong_day.groupBy(['userId', 'ts']).agg(F.count(F.col('page')).alias('numSong'))\n",
    "# group by again by users and get the avg of num of page next song per day for the user\n",
    "avgSong_day = avgSong_day.groupBy('userId').agg(F.avg(F.col('numSong')).alias('AvgNumSongPerDay'))\n",
    "# join the table with the df churn table and convert to Pandas\n",
    "df_model = df_model.join(avgSong_day, ['userId'])"
   ]
  },
  {
   "cell_type": "code",
   "execution_count": 84,
   "metadata": {},
   "outputs": [
    {
     "data": {
      "text/plain": [
       "Row(userId='100010', churn_group=0, CountCancel=0, CountSubmitDowngrade=0, CountThumbsDown=5, CountHome=11, CountDowngrade=0, CountRollAdvert=52, CountLogout=5, CountSaveSettings=0, CountAbout=1, CountSettings=0, CountAddtoPlaylist=7, CountAddFriend=4, CountThumbsUp=17, CountHelp=2, CountUpgrade=2, CountError=0, CountSubmitUpgrade=0, gender=1, isPaid=0, countSong=275, avgNumItemSession=54.42857142857143, AvgNumSessionPerDay=1.0, AvgNumSongPerDay=39.285714285714285)"
      ]
     },
     "execution_count": 84,
     "metadata": {},
     "output_type": "execute_result"
    }
   ],
   "source": [
    "# check avg song per day\n",
    "df_model.head()"
   ]
  },
  {
   "cell_type": "markdown",
   "metadata": {},
   "source": [
    "#### Feature From Length Column - Average Length of Song Played per Day"
   ]
  },
  {
   "cell_type": "code",
   "execution_count": 44,
   "metadata": {},
   "outputs": [],
   "source": [
    "# convert timestamp(ts) to day format\n",
    "# length is defined for length of song (in second) played since it occurs only at page nextsong\n",
    "avgLengthsong_day =  df_clean.withColumn('ts', F.date_trunc('day', F.col('ts')))\n",
    "# aggregate the number of length per day group by user id and the day \n",
    "avgLengthsong_day = avgLengthsong_day.groupBy(['userId', 'ts']).agg(F.sum(F.col('length')).alias('lengthSongPerDay'))\n",
    "# group by again by users and get the avg of num of length song per day for the user\n",
    "avgLengthsong_day = avgLengthsong_day.groupBy('userId').agg(F.avg(F.col('lengthSongPerDay')).alias('AvgLengthSongPerDay'))\n",
    "# join the table with the df churn table and convert to Pandas\n",
    "df_model = df_model.join(avgLengthsong_day, ['userId'])"
   ]
  },
  {
   "cell_type": "code",
   "execution_count": 86,
   "metadata": {},
   "outputs": [
    {
     "data": {
      "text/plain": [
       "Row(userId='100010', churn_group=0, CountCancel=0, CountSubmitDowngrade=0, CountThumbsDown=5, CountHome=11, CountDowngrade=0, CountRollAdvert=52, CountLogout=5, CountSaveSettings=0, CountAbout=1, CountSettings=0, CountAddtoPlaylist=7, CountAddFriend=4, CountThumbsUp=17, CountHelp=2, CountUpgrade=2, CountError=0, CountSubmitUpgrade=0, gender=1, isPaid=0, countSong=275, avgNumItemSession=54.42857142857143, AvgNumSessionPerDay=1.0, AvgNumSongPerDay=39.285714285714285, AvgLengthSongPerDay=9562.985335714286)"
      ]
     },
     "execution_count": 86,
     "metadata": {},
     "output_type": "execute_result"
    }
   ],
   "source": [
    "# check avg length per day\n",
    "df_model.head()"
   ]
  },
  {
   "cell_type": "markdown",
   "metadata": {},
   "source": [
    "#### Check Features"
   ]
  },
  {
   "cell_type": "code",
   "execution_count": 45,
   "metadata": {
    "scrolled": true
   },
   "outputs": [
    {
     "data": {
      "text/plain": [
       "225"
      ]
     },
     "execution_count": 45,
     "metadata": {},
     "output_type": "execute_result"
    }
   ],
   "source": [
    "df_model.count()"
   ]
  },
  {
   "cell_type": "code",
   "execution_count": 137,
   "metadata": {},
   "outputs": [
    {
     "name": "stdout",
     "output_type": "stream",
     "text": [
      "root\n",
      " |-- userId: string (nullable = true)\n",
      " |-- churn_group: long (nullable = true)\n",
      " |-- CountCancel: long (nullable = true)\n",
      " |-- CountSubmitDowngrade: long (nullable = true)\n",
      " |-- CountThumbsDown: long (nullable = true)\n",
      " |-- CountHome: long (nullable = true)\n",
      " |-- CountDowngrade: long (nullable = true)\n",
      " |-- CountRollAdvert: long (nullable = true)\n",
      " |-- CountLogout: long (nullable = true)\n",
      " |-- CountSaveSettings: long (nullable = true)\n",
      " |-- CountAbout: long (nullable = true)\n",
      " |-- CountSettings: long (nullable = true)\n",
      " |-- CountAddtoPlaylist: long (nullable = true)\n",
      " |-- CountAddFriend: long (nullable = true)\n",
      " |-- CountThumbsUp: long (nullable = true)\n",
      " |-- CountHelp: long (nullable = true)\n",
      " |-- CountUpgrade: long (nullable = true)\n",
      " |-- CountError: long (nullable = true)\n",
      " |-- CountSubmitUpgrade: long (nullable = true)\n",
      " |-- gender: integer (nullable = true)\n",
      " |-- isPaid: integer (nullable = true)\n",
      " |-- countSong: long (nullable = false)\n",
      " |-- avgNumItemSession: double (nullable = true)\n",
      " |-- AvgNumSessionPerDay: double (nullable = true)\n",
      " |-- AvgNumSongPerDay: double (nullable = true)\n",
      " |-- AvgLengthSongPerDay: double (nullable = true)\n",
      "\n"
     ]
    }
   ],
   "source": [
    "df_model.printSchema()"
   ]
  },
  {
   "cell_type": "code",
   "execution_count": 89,
   "metadata": {},
   "outputs": [
    {
     "name": "stdout",
     "output_type": "stream",
     "text": [
      "userId missing values: 0\n",
      "churn_group missing values: 0\n",
      "CountCancel missing values: 0\n",
      "CountSubmitDowngrade missing values: 0\n",
      "CountThumbsDown missing values: 0\n",
      "CountHome missing values: 0\n",
      "CountDowngrade missing values: 0\n",
      "CountRollAdvert missing values: 0\n",
      "CountLogout missing values: 0\n",
      "CountSaveSettings missing values: 0\n",
      "CountAbout missing values: 0\n",
      "CountSettings missing values: 0\n",
      "CountAddtoPlaylist missing values: 0\n",
      "CountAddFriend missing values: 0\n",
      "CountThumbsUp missing values: 0\n",
      "CountHelp missing values: 0\n",
      "CountUpgrade missing values: 0\n",
      "CountError missing values: 0\n",
      "CountSubmitUpgrade missing values: 0\n",
      "gender missing values: 0\n",
      "isPaid missing values: 0\n",
      "countSong missing values: 0\n",
      "avgNumItemSession missing values: 0\n",
      "AvgNumSessionPerDay missing values: 0\n",
      "AvgNumSongPerDay missing values: 0\n",
      "AvgLengthSongPerDay missing values: 0\n"
     ]
    }
   ],
   "source": [
    "#count null value from each column\n",
    "for column in df_model.columns:\n",
    "    print(column, \"missing values:\", df_model.filter(F.isnull(df_model[column])).count())"
   ]
  },
  {
   "cell_type": "markdown",
   "metadata": {},
   "source": [
    "### Vectorize"
   ]
  },
  {
   "cell_type": "code",
   "execution_count": 46,
   "metadata": {},
   "outputs": [
    {
     "data": {
      "text/plain": [
       "['CountCancel',\n",
       " 'CountSubmitDowngrade',\n",
       " 'CountThumbsDown',\n",
       " 'CountHome',\n",
       " 'CountDowngrade',\n",
       " 'CountRollAdvert',\n",
       " 'CountLogout',\n",
       " 'CountSaveSettings',\n",
       " 'CountAbout',\n",
       " 'CountSettings',\n",
       " 'CountAddtoPlaylist',\n",
       " 'CountAddFriend',\n",
       " 'CountThumbsUp',\n",
       " 'CountHelp',\n",
       " 'CountUpgrade',\n",
       " 'CountError',\n",
       " 'CountSubmitUpgrade',\n",
       " 'gender',\n",
       " 'isPaid',\n",
       " 'countSong',\n",
       " 'avgNumItemSession',\n",
       " 'AvgNumSessionPerDay',\n",
       " 'AvgNumSongPerDay',\n",
       " 'AvgLengthSongPerDay']"
      ]
     },
     "execution_count": 46,
     "metadata": {},
     "output_type": "execute_result"
    }
   ],
   "source": [
    "# create vector assembler\n",
    "features = df_model.columns\n",
    "\n",
    "# removing other than the fetures for the list\n",
    "features.remove('churn_group')\n",
    "features.remove('userId')\n",
    "features"
   ]
  },
  {
   "cell_type": "code",
   "execution_count": 47,
   "metadata": {},
   "outputs": [
    {
     "data": {
      "text/plain": [
       "Row(userId='100010', churn_group=0, CountCancel=0, CountSubmitDowngrade=0, CountThumbsDown=5, CountHome=11, CountDowngrade=0, CountRollAdvert=52, CountLogout=5, CountSaveSettings=0, CountAbout=1, CountSettings=0, CountAddtoPlaylist=7, CountAddFriend=4, CountThumbsUp=17, CountHelp=2, CountUpgrade=2, CountError=0, CountSubmitUpgrade=0, gender=1, isPaid=0, countSong=275, avgNumItemSession=54.42857142857143, AvgNumSessionPerDay=1.0, AvgNumSongPerDay=39.285714285714285, AvgLengthSongPerDay=9562.985335714286, vectorizedFeatures=DenseVector([0.0, 0.0, 5.0, 11.0, 0.0, 52.0, 5.0, 0.0, 1.0, 0.0, 7.0, 4.0, 17.0, 2.0, 2.0, 0.0, 0.0, 1.0, 0.0, 275.0, 54.4286, 1.0, 39.2857, 9562.9853]))"
      ]
     },
     "execution_count": 47,
     "metadata": {},
     "output_type": "execute_result"
    }
   ],
   "source": [
    "# create the vector assembler and use it to vectorize the feature\n",
    "assembler = VectorAssembler(inputCols=features, outputCol='vectorizedFeatures')\n",
    "df_feature_assemble = assembler.transform(df_model)\n",
    "df_feature_assemble.head()"
   ]
  },
  {
   "cell_type": "markdown",
   "metadata": {},
   "source": [
    "### Scale Features"
   ]
  },
  {
   "cell_type": "code",
   "execution_count": 48,
   "metadata": {},
   "outputs": [],
   "source": [
    "# scale the features \n",
    "scaler = Normalizer(inputCol = 'vectorizedFeatures', outputCol = 'scaled_features')\n",
    "df_scale = scaler.transform(df_feature_assemble)\n",
    "#df_scale.head()"
   ]
  },
  {
   "cell_type": "code",
   "execution_count": 49,
   "metadata": {},
   "outputs": [],
   "source": [
    "# the data created which consist of lable and (vectorized and scaled) features will be used for modeling, hence we need to label it \n",
    "df_ml_model = df_scale.select(F.col('churn_group').alias('label'), F.col('scaled_features').alias('features'))"
   ]
  },
  {
   "cell_type": "code",
   "execution_count": 50,
   "metadata": {},
   "outputs": [
    {
     "data": {
      "text/plain": [
       "Row(label=0, features=DenseVector([0.0, 0.0, 0.0005, 0.0011, 0.0, 0.0054, 0.0005, 0.0, 0.0001, 0.0, 0.0007, 0.0004, 0.0018, 0.0002, 0.0002, 0.0, 0.0, 0.0001, 0.0, 0.0287, 0.0057, 0.0001, 0.0041, 0.9995]))"
      ]
     },
     "execution_count": 50,
     "metadata": {},
     "output_type": "execute_result"
    }
   ],
   "source": [
    "df_ml_model.head()"
   ]
  },
  {
   "cell_type": "code",
   "execution_count": 51,
   "metadata": {},
   "outputs": [
    {
     "name": "stdout",
     "output_type": "stream",
     "text": [
      "root\n",
      " |-- label: long (nullable = true)\n",
      " |-- features: vector (nullable = true)\n",
      "\n"
     ]
    }
   ],
   "source": [
    "df_ml_model.printSchema()"
   ]
  },
  {
   "cell_type": "markdown",
   "metadata": {},
   "source": [
    "# Modeling\n",
    "Split the full dataset into train, test, and validation sets. Test out several of the machine learning methods you learned. Evaluate the accuracy of the various models, tuning parameters as necessary. Determine your winning model based on test accuracy and report results on the validation set. Since the churned users are a fairly small subset, I suggest using F1 score as the metric to optimize."
   ]
  },
  {
   "cell_type": "markdown",
   "metadata": {},
   "source": [
    "### Train and Test Data"
   ]
  },
  {
   "cell_type": "code",
   "execution_count": 52,
   "metadata": {},
   "outputs": [],
   "source": [
    "# break the dataset into training and testing sets\n",
    "train, test = df_ml_model.randomSplit([.8, .2], seed=42)"
   ]
  },
  {
   "cell_type": "markdown",
   "metadata": {},
   "source": [
    "### Random Forest Classifier\n"
   ]
  },
  {
   "cell_type": "code",
   "execution_count": 143,
   "metadata": {},
   "outputs": [],
   "source": [
    "# define the model\n",
    "rf = RandomForestClassifier()\n",
    "\n",
    "# define the parameter alternatives to be tested\n",
    "rf_paramGrid = ParamGridBuilder() \\\n",
    "            .addGrid(rf.numTrees,[5, 10]) \\\n",
    "            .addGrid(rf.maxDepth,[2, 5]) \\\n",
    "            .build()\n",
    "\n",
    "# define the cross validator\n",
    "rf_cross_validation = CrossValidator(estimator = rf,\n",
    "                          estimatorParamMaps = rf_paramGrid,\n",
    "                          evaluator = BinaryClassificationEvaluator(),\n",
    "                          numFolds =3)\n"
   ]
  },
  {
   "cell_type": "code",
   "execution_count": 144,
   "metadata": {},
   "outputs": [],
   "source": [
    "# train the model\n",
    "rf_model = rf_cross_validation.fit(train)"
   ]
  },
  {
   "cell_type": "code",
   "execution_count": 145,
   "metadata": {},
   "outputs": [],
   "source": [
    "# make prediction with the model\n",
    "rf_pred = rf_model.transform(test)"
   ]
  },
  {
   "cell_type": "code",
   "execution_count": 149,
   "metadata": {},
   "outputs": [
    {
     "name": "stdout",
     "output_type": "stream",
     "text": [
      "Random Forest Accuracy: 0.9411764705882353\n"
     ]
    }
   ],
   "source": [
    "# calculate the accuracy, ref calculation from spark lecture\n",
    "accuracy = rf_pred.filter(rf_pred.label == rf_pred.prediction).count() / rf_pred.count() \n",
    "print('Random Forest Accuracy:', accuracy)"
   ]
  },
  {
   "cell_type": "markdown",
   "metadata": {},
   "source": [
    "### Logistic Regression "
   ]
  },
  {
   "cell_type": "code",
   "execution_count": 160,
   "metadata": {},
   "outputs": [],
   "source": [
    "# define the model\n",
    "lr = LogisticRegression()\n",
    "\n",
    "# define the parameter alternatives to be tested\n",
    "lr_paramGrid = ParamGridBuilder()\\\n",
    "                .addGrid(lr.regParam, [0.0, 0.1])\\\n",
    "                .addGrid(lr.maxIter, [5, 10])\\\n",
    "                .build()\n",
    "\n",
    "# define the cross validator\n",
    "lr_cross_validation = CrossValidator(estimator=lr,\n",
    "                              estimatorParamMaps=lr_paramGrid,\n",
    "                              evaluator = MulticlassClassificationEvaluator(metricName = 'f1'),\n",
    "                              numFolds=3)\n"
   ]
  },
  {
   "cell_type": "code",
   "execution_count": 161,
   "metadata": {},
   "outputs": [],
   "source": [
    "# train the model\n",
    "lr_model = lr_cross_validation.fit(train)"
   ]
  },
  {
   "cell_type": "code",
   "execution_count": 162,
   "metadata": {},
   "outputs": [],
   "source": [
    "# make prediction with the model\n",
    "lr_pred = lr_model.transform(test) "
   ]
  },
  {
   "cell_type": "code",
   "execution_count": 164,
   "metadata": {},
   "outputs": [
    {
     "name": "stdout",
     "output_type": "stream",
     "text": [
      "Logistic Regression Accuracy: 0.9705882352941176\n"
     ]
    }
   ],
   "source": [
    "# calculate the accuracy, ref calculation from spark lecture\n",
    "accuracy_lr = lr_pred.filter(lr_pred.label == lr_pred.prediction).count() / lr_pred.count()\n",
    "print('Logistic Regression Accuracy:', accuracy_lr)"
   ]
  },
  {
   "cell_type": "markdown",
   "metadata": {},
   "source": [
    "### Gradient Boosted"
   ]
  },
  {
   "cell_type": "code",
   "execution_count": 165,
   "metadata": {},
   "outputs": [],
   "source": [
    "# define the model\n",
    "gbt = GBTClassifier()\n",
    "\n",
    "# define the parameter alternatives to be tested\n",
    "gbt_paramGrid = ParamGridBuilder()\\\n",
    "                .addGrid(gbt.maxIter, [5, 10])\\\n",
    "                .addGrid(gbt.maxDepth, [2, 5])\\\n",
    "                .build()\n",
    "\n",
    "# define the cross validator\n",
    "gbt_cross_validation = CrossValidator(estimator=gbt,\n",
    "                              estimatorParamMaps=gbt_paramGrid,\n",
    "                              evaluator = BinaryClassificationEvaluator(),\n",
    "                              numFolds=3)\n"
   ]
  },
  {
   "cell_type": "code",
   "execution_count": 166,
   "metadata": {},
   "outputs": [],
   "source": [
    "# train the model\n",
    "gbt_model = gbt_cross_validation.fit(train)"
   ]
  },
  {
   "cell_type": "code",
   "execution_count": 167,
   "metadata": {},
   "outputs": [],
   "source": [
    "# make prediction with the model\n",
    "gbt_pred = gbt_model.transform(test)"
   ]
  },
  {
   "cell_type": "code",
   "execution_count": 169,
   "metadata": {},
   "outputs": [
    {
     "name": "stdout",
     "output_type": "stream",
     "text": [
      "Gradient Boosted Accuracy: 1.0\n"
     ]
    }
   ],
   "source": [
    "# calculate the accuracy, ref calculation from spark lecture\n",
    "accuracy_gbt = gbt_pred.filter(gbt_pred.label == gbt_pred.prediction).count() / gbt_pred.count()\n",
    "print('Gradient Boosted Accuracy:', accuracy_gbt)"
   ]
  },
  {
   "cell_type": "markdown",
   "metadata": {},
   "source": [
    "### Conclusion"
   ]
  },
  {
   "cell_type": "markdown",
   "metadata": {},
   "source": [
    "I used 3 different models as can be seen above:\n",
    "1. Random Forrest Classifier\n",
    "2. Logistic Regression\n",
    "3. Gradient Boosted\n",
    "\n",
    "From the result above, Gradient Boosted Tree has the highest accuracy compared to random forrest and logistic regression. The main finding will be posted on my [Medium](https://medium.com/@widyapuspitaloka/predicting-churn-on-sparkify-music-streaming-using-spark-181d74849978).\n"
   ]
  },
  {
   "cell_type": "markdown",
   "metadata": {},
   "source": [
    "# Final Steps\n",
    "Clean up your code, adding comments and renaming variables to make the code easier to read and maintain. Refer to the Spark Project Overview page and Data Scientist Capstone Project Rubric to make sure you are including all components of the capstone project and meet all expectations. Remember, this includes thorough documentation in a README file in a Github repository, as well as a web app or blog post."
   ]
  },
  {
   "cell_type": "code",
   "execution_count": null,
   "metadata": {},
   "outputs": [],
   "source": []
  },
  {
   "cell_type": "code",
   "execution_count": null,
   "metadata": {},
   "outputs": [],
   "source": []
  }
 ],
 "metadata": {
  "kernelspec": {
   "display_name": "Python 3",
   "language": "python",
   "name": "python3"
  }
 },
 "nbformat": 4,
 "nbformat_minor": 2
}
